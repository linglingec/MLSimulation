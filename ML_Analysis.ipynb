{
  "nbformat": 4,
  "nbformat_minor": 0,
  "metadata": {
    "colab": {
      "name": "ML_Analysis.ipynb",
      "provenance": []
    },
    "kernelspec": {
      "name": "python3",
      "display_name": "Python 3"
    },
    "language_info": {
      "name": "python"
    }
  },
  "cells": [
    {
      "cell_type": "markdown",
      "source": [
        "#Importing the libraries"
      ],
      "metadata": {
        "id": "NUeccyZT6w0F"
      }
    },
    {
      "cell_type": "code",
      "source": [
        "!pip install squarify"
      ],
      "metadata": {
        "colab": {
          "base_uri": "https://localhost:8080/"
        },
        "id": "twbtymCx-jO0",
        "outputId": "c7421859-0b2b-4b8f-dc71-13f40ce6acbb"
      },
      "execution_count": 14,
      "outputs": [
        {
          "output_type": "stream",
          "name": "stdout",
          "text": [
            "Collecting squarify\n",
            "  Downloading squarify-0.4.3-py3-none-any.whl (4.3 kB)\n",
            "Installing collected packages: squarify\n",
            "Successfully installed squarify-0.4.3\n"
          ]
        }
      ]
    },
    {
      "cell_type": "code",
      "execution_count": 53,
      "metadata": {
        "id": "P4sHMwiA6j7_"
      },
      "outputs": [],
      "source": [
        "import numpy as np \n",
        "import pandas as pd \n",
        "import os\n",
        "from statsmodels import api as sm\n",
        "import pylab as py\n",
        "import matplotlib.pyplot as plt\n",
        "import matplotlib.dates as dates\n",
        "from datetime import datetime\n",
        "import matplotlib.ticker as ticker\n",
        "import matplotlib.cm as cm\n",
        "import matplotlib as mpl\n",
        "from matplotlib.gridspec import GridSpec\n",
        "import seaborn as sns\n",
        "from scipy.stats import kstest,norm\n",
        "from scipy.stats import norm\n",
        "from sklearn.preprocessing import LabelEncoder\n",
        "from sklearn.preprocessing import MinMaxScaler\n",
        "from sklearn.model_selection import train_test_split\n",
        "from xgboost import plot_importance\n",
        "from sklearn.utils import resample\n",
        "from sklearn import metrics\n",
        "from scipy.stats import chi2_contingency\n",
        "import squarify"
      ]
    },
    {
      "cell_type": "markdown",
      "source": [
        "#For purpose of analysis let's take data from November 2019"
      ],
      "metadata": {
        "id": "OVCCx0yr7EuQ"
      }
    },
    {
      "cell_type": "code",
      "source": [
        "from google.colab import drive\n",
        "drive.mount('/content/drive')"
      ],
      "metadata": {
        "colab": {
          "base_uri": "https://localhost:8080/"
        },
        "id": "OA34AplK62J_",
        "outputId": "b47621f1-55f9-4553-e684-4372a43ffc54"
      },
      "execution_count": 4,
      "outputs": [
        {
          "output_type": "stream",
          "name": "stdout",
          "text": [
            "Mounted at /content/drive\n"
          ]
        }
      ]
    },
    {
      "cell_type": "code",
      "source": [
        "df = pd.read_csv('/content/drive/MyDrive/2019-Nov.csv')"
      ],
      "metadata": {
        "id": "LPUzIisB7VI6"
      },
      "execution_count": 6,
      "outputs": []
    },
    {
      "cell_type": "code",
      "source": [
        "df.head()"
      ],
      "metadata": {
        "colab": {
          "base_uri": "https://localhost:8080/",
          "height": 206
        },
        "id": "Ss8-INo37tkD",
        "outputId": "2c46c5cf-23cd-4050-852b-c35768548190"
      },
      "execution_count": 7,
      "outputs": [
        {
          "output_type": "execute_result",
          "data": {
            "text/plain": [
              "                event_time        event_type  product_id          category_id  \\\n",
              "0  2019-11-01 00:00:02 UTC              view     5802432  1487580009286598681   \n",
              "1  2019-11-01 00:00:09 UTC              cart     5844397  1487580006317032337   \n",
              "2  2019-11-01 00:00:10 UTC              view     5837166  1783999064103190764   \n",
              "3  2019-11-01 00:00:11 UTC              cart     5876812  1487580010100293687   \n",
              "4  2019-11-01 00:00:24 UTC  remove_from_cart     5826182  1487580007483048900   \n",
              "\n",
              "  category_code     brand  price    user_id  \\\n",
              "0           NaN       NaN   0.32  562076640   \n",
              "1           NaN       NaN   2.38  553329724   \n",
              "2           NaN       pnb  22.22  556138645   \n",
              "3           NaN  jessnail   3.16  564506666   \n",
              "4           NaN       NaN   3.33  553329724   \n",
              "\n",
              "                           user_session  \n",
              "0  09fafd6c-6c99-46b1-834f-33527f4de241  \n",
              "1  2067216c-31b5-455d-a1cc-af0575a34ffb  \n",
              "2  57ed222e-a54a-4907-9944-5a875c2d7f4f  \n",
              "3  186c1951-8052-4b37-adce-dd9644b1d5f7  \n",
              "4  2067216c-31b5-455d-a1cc-af0575a34ffb  "
            ],
            "text/html": [
              "\n",
              "  <div id=\"df-41a19876-ba4f-46c0-8c8c-7cd08b28afdf\">\n",
              "    <div class=\"colab-df-container\">\n",
              "      <div>\n",
              "<style scoped>\n",
              "    .dataframe tbody tr th:only-of-type {\n",
              "        vertical-align: middle;\n",
              "    }\n",
              "\n",
              "    .dataframe tbody tr th {\n",
              "        vertical-align: top;\n",
              "    }\n",
              "\n",
              "    .dataframe thead th {\n",
              "        text-align: right;\n",
              "    }\n",
              "</style>\n",
              "<table border=\"1\" class=\"dataframe\">\n",
              "  <thead>\n",
              "    <tr style=\"text-align: right;\">\n",
              "      <th></th>\n",
              "      <th>event_time</th>\n",
              "      <th>event_type</th>\n",
              "      <th>product_id</th>\n",
              "      <th>category_id</th>\n",
              "      <th>category_code</th>\n",
              "      <th>brand</th>\n",
              "      <th>price</th>\n",
              "      <th>user_id</th>\n",
              "      <th>user_session</th>\n",
              "    </tr>\n",
              "  </thead>\n",
              "  <tbody>\n",
              "    <tr>\n",
              "      <th>0</th>\n",
              "      <td>2019-11-01 00:00:02 UTC</td>\n",
              "      <td>view</td>\n",
              "      <td>5802432</td>\n",
              "      <td>1487580009286598681</td>\n",
              "      <td>NaN</td>\n",
              "      <td>NaN</td>\n",
              "      <td>0.32</td>\n",
              "      <td>562076640</td>\n",
              "      <td>09fafd6c-6c99-46b1-834f-33527f4de241</td>\n",
              "    </tr>\n",
              "    <tr>\n",
              "      <th>1</th>\n",
              "      <td>2019-11-01 00:00:09 UTC</td>\n",
              "      <td>cart</td>\n",
              "      <td>5844397</td>\n",
              "      <td>1487580006317032337</td>\n",
              "      <td>NaN</td>\n",
              "      <td>NaN</td>\n",
              "      <td>2.38</td>\n",
              "      <td>553329724</td>\n",
              "      <td>2067216c-31b5-455d-a1cc-af0575a34ffb</td>\n",
              "    </tr>\n",
              "    <tr>\n",
              "      <th>2</th>\n",
              "      <td>2019-11-01 00:00:10 UTC</td>\n",
              "      <td>view</td>\n",
              "      <td>5837166</td>\n",
              "      <td>1783999064103190764</td>\n",
              "      <td>NaN</td>\n",
              "      <td>pnb</td>\n",
              "      <td>22.22</td>\n",
              "      <td>556138645</td>\n",
              "      <td>57ed222e-a54a-4907-9944-5a875c2d7f4f</td>\n",
              "    </tr>\n",
              "    <tr>\n",
              "      <th>3</th>\n",
              "      <td>2019-11-01 00:00:11 UTC</td>\n",
              "      <td>cart</td>\n",
              "      <td>5876812</td>\n",
              "      <td>1487580010100293687</td>\n",
              "      <td>NaN</td>\n",
              "      <td>jessnail</td>\n",
              "      <td>3.16</td>\n",
              "      <td>564506666</td>\n",
              "      <td>186c1951-8052-4b37-adce-dd9644b1d5f7</td>\n",
              "    </tr>\n",
              "    <tr>\n",
              "      <th>4</th>\n",
              "      <td>2019-11-01 00:00:24 UTC</td>\n",
              "      <td>remove_from_cart</td>\n",
              "      <td>5826182</td>\n",
              "      <td>1487580007483048900</td>\n",
              "      <td>NaN</td>\n",
              "      <td>NaN</td>\n",
              "      <td>3.33</td>\n",
              "      <td>553329724</td>\n",
              "      <td>2067216c-31b5-455d-a1cc-af0575a34ffb</td>\n",
              "    </tr>\n",
              "  </tbody>\n",
              "</table>\n",
              "</div>\n",
              "      <button class=\"colab-df-convert\" onclick=\"convertToInteractive('df-41a19876-ba4f-46c0-8c8c-7cd08b28afdf')\"\n",
              "              title=\"Convert this dataframe to an interactive table.\"\n",
              "              style=\"display:none;\">\n",
              "        \n",
              "  <svg xmlns=\"http://www.w3.org/2000/svg\" height=\"24px\"viewBox=\"0 0 24 24\"\n",
              "       width=\"24px\">\n",
              "    <path d=\"M0 0h24v24H0V0z\" fill=\"none\"/>\n",
              "    <path d=\"M18.56 5.44l.94 2.06.94-2.06 2.06-.94-2.06-.94-.94-2.06-.94 2.06-2.06.94zm-11 1L8.5 8.5l.94-2.06 2.06-.94-2.06-.94L8.5 2.5l-.94 2.06-2.06.94zm10 10l.94 2.06.94-2.06 2.06-.94-2.06-.94-.94-2.06-.94 2.06-2.06.94z\"/><path d=\"M17.41 7.96l-1.37-1.37c-.4-.4-.92-.59-1.43-.59-.52 0-1.04.2-1.43.59L10.3 9.45l-7.72 7.72c-.78.78-.78 2.05 0 2.83L4 21.41c.39.39.9.59 1.41.59.51 0 1.02-.2 1.41-.59l7.78-7.78 2.81-2.81c.8-.78.8-2.07 0-2.86zM5.41 20L4 18.59l7.72-7.72 1.47 1.35L5.41 20z\"/>\n",
              "  </svg>\n",
              "      </button>\n",
              "      \n",
              "  <style>\n",
              "    .colab-df-container {\n",
              "      display:flex;\n",
              "      flex-wrap:wrap;\n",
              "      gap: 12px;\n",
              "    }\n",
              "\n",
              "    .colab-df-convert {\n",
              "      background-color: #E8F0FE;\n",
              "      border: none;\n",
              "      border-radius: 50%;\n",
              "      cursor: pointer;\n",
              "      display: none;\n",
              "      fill: #1967D2;\n",
              "      height: 32px;\n",
              "      padding: 0 0 0 0;\n",
              "      width: 32px;\n",
              "    }\n",
              "\n",
              "    .colab-df-convert:hover {\n",
              "      background-color: #E2EBFA;\n",
              "      box-shadow: 0px 1px 2px rgba(60, 64, 67, 0.3), 0px 1px 3px 1px rgba(60, 64, 67, 0.15);\n",
              "      fill: #174EA6;\n",
              "    }\n",
              "\n",
              "    [theme=dark] .colab-df-convert {\n",
              "      background-color: #3B4455;\n",
              "      fill: #D2E3FC;\n",
              "    }\n",
              "\n",
              "    [theme=dark] .colab-df-convert:hover {\n",
              "      background-color: #434B5C;\n",
              "      box-shadow: 0px 1px 3px 1px rgba(0, 0, 0, 0.15);\n",
              "      filter: drop-shadow(0px 1px 2px rgba(0, 0, 0, 0.3));\n",
              "      fill: #FFFFFF;\n",
              "    }\n",
              "  </style>\n",
              "\n",
              "      <script>\n",
              "        const buttonEl =\n",
              "          document.querySelector('#df-41a19876-ba4f-46c0-8c8c-7cd08b28afdf button.colab-df-convert');\n",
              "        buttonEl.style.display =\n",
              "          google.colab.kernel.accessAllowed ? 'block' : 'none';\n",
              "\n",
              "        async function convertToInteractive(key) {\n",
              "          const element = document.querySelector('#df-41a19876-ba4f-46c0-8c8c-7cd08b28afdf');\n",
              "          const dataTable =\n",
              "            await google.colab.kernel.invokeFunction('convertToInteractive',\n",
              "                                                     [key], {});\n",
              "          if (!dataTable) return;\n",
              "\n",
              "          const docLinkHtml = 'Like what you see? Visit the ' +\n",
              "            '<a target=\"_blank\" href=https://colab.research.google.com/notebooks/data_table.ipynb>data table notebook</a>'\n",
              "            + ' to learn more about interactive tables.';\n",
              "          element.innerHTML = '';\n",
              "          dataTable['output_type'] = 'display_data';\n",
              "          await google.colab.output.renderOutput(dataTable, element);\n",
              "          const docLink = document.createElement('div');\n",
              "          docLink.innerHTML = docLinkHtml;\n",
              "          element.appendChild(docLink);\n",
              "        }\n",
              "      </script>\n",
              "    </div>\n",
              "  </div>\n",
              "  "
            ]
          },
          "metadata": {},
          "execution_count": 7
        }
      ]
    },
    {
      "cell_type": "code",
      "source": [
        "df.info()"
      ],
      "metadata": {
        "colab": {
          "base_uri": "https://localhost:8080/"
        },
        "id": "dW4e7XQy8CR9",
        "outputId": "ce78b82d-9f4c-417a-82db-946318afeeda"
      },
      "execution_count": 8,
      "outputs": [
        {
          "output_type": "stream",
          "name": "stdout",
          "text": [
            "<class 'pandas.core.frame.DataFrame'>\n",
            "RangeIndex: 4635837 entries, 0 to 4635836\n",
            "Data columns (total 9 columns):\n",
            " #   Column         Dtype  \n",
            "---  ------         -----  \n",
            " 0   event_time     object \n",
            " 1   event_type     object \n",
            " 2   product_id     int64  \n",
            " 3   category_id    int64  \n",
            " 4   category_code  object \n",
            " 5   brand          object \n",
            " 6   price          float64\n",
            " 7   user_id        int64  \n",
            " 8   user_session   object \n",
            "dtypes: float64(1), int64(3), object(5)\n",
            "memory usage: 318.3+ MB\n"
          ]
        }
      ]
    },
    {
      "cell_type": "code",
      "source": [
        "print(\"category_code \",df['category_code'].isnull().sum())\n",
        "print(\"brand \",df['brand'].isnull().sum())\n",
        "print(\"Both \",(df['category_code'].isnull() & df['brand'].isnull()).sum())"
      ],
      "metadata": {
        "colab": {
          "base_uri": "https://localhost:8080/"
        },
        "id": "S-wVdhvX8GiN",
        "outputId": "e3fce798-4ae4-4111-82f1-24f13a317371"
      },
      "execution_count": 9,
      "outputs": [
        {
          "output_type": "stream",
          "name": "stdout",
          "text": [
            "category_code  4560089\n",
            "brand  1986029\n",
            "Both  1966848\n"
          ]
        }
      ]
    },
    {
      "cell_type": "code",
      "source": [
        "df.dropna()"
      ],
      "metadata": {
        "colab": {
          "base_uri": "https://localhost:8080/",
          "height": 467
        },
        "id": "nreg54tI8L6B",
        "outputId": "1e7f63b6-c2fa-4871-adac-ee30d1e584a6"
      },
      "execution_count": 10,
      "outputs": [
        {
          "output_type": "execute_result",
          "data": {
            "text/plain": [
              "                      event_time event_type  product_id          category_id  \\\n",
              "66       2019-11-01 00:04:33 UTC   purchase     5766980  1487580013053083824   \n",
              "67       2019-11-01 00:04:33 UTC   purchase     5767494  1487580013053083824   \n",
              "68       2019-11-01 00:04:33 UTC   purchase     5775813  1487580013053083824   \n",
              "69       2019-11-01 00:04:33 UTC   purchase     5775814  1487580013053083824   \n",
              "242      2019-11-01 00:16:56 UTC       view     5885596  1487580006350586771   \n",
              "...                          ...        ...         ...                  ...   \n",
              "4634986  2019-11-30 23:28:47 UTC       view     5868559  1487580006350586771   \n",
              "4635434  2019-11-30 23:45:12 UTC       view     5856191  1487580006350586771   \n",
              "4635442  2019-11-30 23:45:23 UTC       view        5395  1487580006350586771   \n",
              "4635461  2019-11-30 23:45:46 UTC       view     5856191  1487580006350586771   \n",
              "4635663  2019-11-30 23:53:46 UTC       view        5395  1487580006350586771   \n",
              "\n",
              "                         category_code    brand   price    user_id  \\\n",
              "66                 stationery.cartrige  italwax    1.98  564451209   \n",
              "67                 stationery.cartrige  italwax    2.14  564451209   \n",
              "68                 stationery.cartrige  italwax    1.98  564451209   \n",
              "69                 stationery.cartrige  italwax    1.98  564451209   \n",
              "242      appliances.environment.vacuum  polarus  102.38  202438687   \n",
              "...                                ...      ...     ...        ...   \n",
              "4634986  appliances.environment.vacuum      max   95.08  579961417   \n",
              "4635434  appliances.environment.vacuum   runail   24.44  526779351   \n",
              "4635442  appliances.environment.vacuum   runail   30.95  526779351   \n",
              "4635461  appliances.environment.vacuum   runail   24.44  526779351   \n",
              "4635663  appliances.environment.vacuum   runail   30.95  474312536   \n",
              "\n",
              "                                 user_session  \n",
              "66       861ab2f1-b2e5-886f-a93b-5b067eff081f  \n",
              "67       861ab2f1-b2e5-886f-a93b-5b067eff081f  \n",
              "68       861ab2f1-b2e5-886f-a93b-5b067eff081f  \n",
              "69       861ab2f1-b2e5-886f-a93b-5b067eff081f  \n",
              "242      8dc848f5-bac3-44d7-9414-75d4e599abaf  \n",
              "...                                       ...  \n",
              "4634986  4ee71910-3878-4a37-9ca7-3aa35e037d2f  \n",
              "4635434  0d56d4ab-0a70-4cd2-bb0c-e7e22ad53e20  \n",
              "4635442  0d56d4ab-0a70-4cd2-bb0c-e7e22ad53e20  \n",
              "4635461  0d56d4ab-0a70-4cd2-bb0c-e7e22ad53e20  \n",
              "4635663  5abe9bd9-4163-4a35-a2e3-40b89259b7f7  \n",
              "\n",
              "[56559 rows x 9 columns]"
            ],
            "text/html": [
              "\n",
              "  <div id=\"df-515f1b18-642e-4c01-8e28-580d1879ada3\">\n",
              "    <div class=\"colab-df-container\">\n",
              "      <div>\n",
              "<style scoped>\n",
              "    .dataframe tbody tr th:only-of-type {\n",
              "        vertical-align: middle;\n",
              "    }\n",
              "\n",
              "    .dataframe tbody tr th {\n",
              "        vertical-align: top;\n",
              "    }\n",
              "\n",
              "    .dataframe thead th {\n",
              "        text-align: right;\n",
              "    }\n",
              "</style>\n",
              "<table border=\"1\" class=\"dataframe\">\n",
              "  <thead>\n",
              "    <tr style=\"text-align: right;\">\n",
              "      <th></th>\n",
              "      <th>event_time</th>\n",
              "      <th>event_type</th>\n",
              "      <th>product_id</th>\n",
              "      <th>category_id</th>\n",
              "      <th>category_code</th>\n",
              "      <th>brand</th>\n",
              "      <th>price</th>\n",
              "      <th>user_id</th>\n",
              "      <th>user_session</th>\n",
              "    </tr>\n",
              "  </thead>\n",
              "  <tbody>\n",
              "    <tr>\n",
              "      <th>66</th>\n",
              "      <td>2019-11-01 00:04:33 UTC</td>\n",
              "      <td>purchase</td>\n",
              "      <td>5766980</td>\n",
              "      <td>1487580013053083824</td>\n",
              "      <td>stationery.cartrige</td>\n",
              "      <td>italwax</td>\n",
              "      <td>1.98</td>\n",
              "      <td>564451209</td>\n",
              "      <td>861ab2f1-b2e5-886f-a93b-5b067eff081f</td>\n",
              "    </tr>\n",
              "    <tr>\n",
              "      <th>67</th>\n",
              "      <td>2019-11-01 00:04:33 UTC</td>\n",
              "      <td>purchase</td>\n",
              "      <td>5767494</td>\n",
              "      <td>1487580013053083824</td>\n",
              "      <td>stationery.cartrige</td>\n",
              "      <td>italwax</td>\n",
              "      <td>2.14</td>\n",
              "      <td>564451209</td>\n",
              "      <td>861ab2f1-b2e5-886f-a93b-5b067eff081f</td>\n",
              "    </tr>\n",
              "    <tr>\n",
              "      <th>68</th>\n",
              "      <td>2019-11-01 00:04:33 UTC</td>\n",
              "      <td>purchase</td>\n",
              "      <td>5775813</td>\n",
              "      <td>1487580013053083824</td>\n",
              "      <td>stationery.cartrige</td>\n",
              "      <td>italwax</td>\n",
              "      <td>1.98</td>\n",
              "      <td>564451209</td>\n",
              "      <td>861ab2f1-b2e5-886f-a93b-5b067eff081f</td>\n",
              "    </tr>\n",
              "    <tr>\n",
              "      <th>69</th>\n",
              "      <td>2019-11-01 00:04:33 UTC</td>\n",
              "      <td>purchase</td>\n",
              "      <td>5775814</td>\n",
              "      <td>1487580013053083824</td>\n",
              "      <td>stationery.cartrige</td>\n",
              "      <td>italwax</td>\n",
              "      <td>1.98</td>\n",
              "      <td>564451209</td>\n",
              "      <td>861ab2f1-b2e5-886f-a93b-5b067eff081f</td>\n",
              "    </tr>\n",
              "    <tr>\n",
              "      <th>242</th>\n",
              "      <td>2019-11-01 00:16:56 UTC</td>\n",
              "      <td>view</td>\n",
              "      <td>5885596</td>\n",
              "      <td>1487580006350586771</td>\n",
              "      <td>appliances.environment.vacuum</td>\n",
              "      <td>polarus</td>\n",
              "      <td>102.38</td>\n",
              "      <td>202438687</td>\n",
              "      <td>8dc848f5-bac3-44d7-9414-75d4e599abaf</td>\n",
              "    </tr>\n",
              "    <tr>\n",
              "      <th>...</th>\n",
              "      <td>...</td>\n",
              "      <td>...</td>\n",
              "      <td>...</td>\n",
              "      <td>...</td>\n",
              "      <td>...</td>\n",
              "      <td>...</td>\n",
              "      <td>...</td>\n",
              "      <td>...</td>\n",
              "      <td>...</td>\n",
              "    </tr>\n",
              "    <tr>\n",
              "      <th>4634986</th>\n",
              "      <td>2019-11-30 23:28:47 UTC</td>\n",
              "      <td>view</td>\n",
              "      <td>5868559</td>\n",
              "      <td>1487580006350586771</td>\n",
              "      <td>appliances.environment.vacuum</td>\n",
              "      <td>max</td>\n",
              "      <td>95.08</td>\n",
              "      <td>579961417</td>\n",
              "      <td>4ee71910-3878-4a37-9ca7-3aa35e037d2f</td>\n",
              "    </tr>\n",
              "    <tr>\n",
              "      <th>4635434</th>\n",
              "      <td>2019-11-30 23:45:12 UTC</td>\n",
              "      <td>view</td>\n",
              "      <td>5856191</td>\n",
              "      <td>1487580006350586771</td>\n",
              "      <td>appliances.environment.vacuum</td>\n",
              "      <td>runail</td>\n",
              "      <td>24.44</td>\n",
              "      <td>526779351</td>\n",
              "      <td>0d56d4ab-0a70-4cd2-bb0c-e7e22ad53e20</td>\n",
              "    </tr>\n",
              "    <tr>\n",
              "      <th>4635442</th>\n",
              "      <td>2019-11-30 23:45:23 UTC</td>\n",
              "      <td>view</td>\n",
              "      <td>5395</td>\n",
              "      <td>1487580006350586771</td>\n",
              "      <td>appliances.environment.vacuum</td>\n",
              "      <td>runail</td>\n",
              "      <td>30.95</td>\n",
              "      <td>526779351</td>\n",
              "      <td>0d56d4ab-0a70-4cd2-bb0c-e7e22ad53e20</td>\n",
              "    </tr>\n",
              "    <tr>\n",
              "      <th>4635461</th>\n",
              "      <td>2019-11-30 23:45:46 UTC</td>\n",
              "      <td>view</td>\n",
              "      <td>5856191</td>\n",
              "      <td>1487580006350586771</td>\n",
              "      <td>appliances.environment.vacuum</td>\n",
              "      <td>runail</td>\n",
              "      <td>24.44</td>\n",
              "      <td>526779351</td>\n",
              "      <td>0d56d4ab-0a70-4cd2-bb0c-e7e22ad53e20</td>\n",
              "    </tr>\n",
              "    <tr>\n",
              "      <th>4635663</th>\n",
              "      <td>2019-11-30 23:53:46 UTC</td>\n",
              "      <td>view</td>\n",
              "      <td>5395</td>\n",
              "      <td>1487580006350586771</td>\n",
              "      <td>appliances.environment.vacuum</td>\n",
              "      <td>runail</td>\n",
              "      <td>30.95</td>\n",
              "      <td>474312536</td>\n",
              "      <td>5abe9bd9-4163-4a35-a2e3-40b89259b7f7</td>\n",
              "    </tr>\n",
              "  </tbody>\n",
              "</table>\n",
              "<p>56559 rows × 9 columns</p>\n",
              "</div>\n",
              "      <button class=\"colab-df-convert\" onclick=\"convertToInteractive('df-515f1b18-642e-4c01-8e28-580d1879ada3')\"\n",
              "              title=\"Convert this dataframe to an interactive table.\"\n",
              "              style=\"display:none;\">\n",
              "        \n",
              "  <svg xmlns=\"http://www.w3.org/2000/svg\" height=\"24px\"viewBox=\"0 0 24 24\"\n",
              "       width=\"24px\">\n",
              "    <path d=\"M0 0h24v24H0V0z\" fill=\"none\"/>\n",
              "    <path d=\"M18.56 5.44l.94 2.06.94-2.06 2.06-.94-2.06-.94-.94-2.06-.94 2.06-2.06.94zm-11 1L8.5 8.5l.94-2.06 2.06-.94-2.06-.94L8.5 2.5l-.94 2.06-2.06.94zm10 10l.94 2.06.94-2.06 2.06-.94-2.06-.94-.94-2.06-.94 2.06-2.06.94z\"/><path d=\"M17.41 7.96l-1.37-1.37c-.4-.4-.92-.59-1.43-.59-.52 0-1.04.2-1.43.59L10.3 9.45l-7.72 7.72c-.78.78-.78 2.05 0 2.83L4 21.41c.39.39.9.59 1.41.59.51 0 1.02-.2 1.41-.59l7.78-7.78 2.81-2.81c.8-.78.8-2.07 0-2.86zM5.41 20L4 18.59l7.72-7.72 1.47 1.35L5.41 20z\"/>\n",
              "  </svg>\n",
              "      </button>\n",
              "      \n",
              "  <style>\n",
              "    .colab-df-container {\n",
              "      display:flex;\n",
              "      flex-wrap:wrap;\n",
              "      gap: 12px;\n",
              "    }\n",
              "\n",
              "    .colab-df-convert {\n",
              "      background-color: #E8F0FE;\n",
              "      border: none;\n",
              "      border-radius: 50%;\n",
              "      cursor: pointer;\n",
              "      display: none;\n",
              "      fill: #1967D2;\n",
              "      height: 32px;\n",
              "      padding: 0 0 0 0;\n",
              "      width: 32px;\n",
              "    }\n",
              "\n",
              "    .colab-df-convert:hover {\n",
              "      background-color: #E2EBFA;\n",
              "      box-shadow: 0px 1px 2px rgba(60, 64, 67, 0.3), 0px 1px 3px 1px rgba(60, 64, 67, 0.15);\n",
              "      fill: #174EA6;\n",
              "    }\n",
              "\n",
              "    [theme=dark] .colab-df-convert {\n",
              "      background-color: #3B4455;\n",
              "      fill: #D2E3FC;\n",
              "    }\n",
              "\n",
              "    [theme=dark] .colab-df-convert:hover {\n",
              "      background-color: #434B5C;\n",
              "      box-shadow: 0px 1px 3px 1px rgba(0, 0, 0, 0.15);\n",
              "      filter: drop-shadow(0px 1px 2px rgba(0, 0, 0, 0.3));\n",
              "      fill: #FFFFFF;\n",
              "    }\n",
              "  </style>\n",
              "\n",
              "      <script>\n",
              "        const buttonEl =\n",
              "          document.querySelector('#df-515f1b18-642e-4c01-8e28-580d1879ada3 button.colab-df-convert');\n",
              "        buttonEl.style.display =\n",
              "          google.colab.kernel.accessAllowed ? 'block' : 'none';\n",
              "\n",
              "        async function convertToInteractive(key) {\n",
              "          const element = document.querySelector('#df-515f1b18-642e-4c01-8e28-580d1879ada3');\n",
              "          const dataTable =\n",
              "            await google.colab.kernel.invokeFunction('convertToInteractive',\n",
              "                                                     [key], {});\n",
              "          if (!dataTable) return;\n",
              "\n",
              "          const docLinkHtml = 'Like what you see? Visit the ' +\n",
              "            '<a target=\"_blank\" href=https://colab.research.google.com/notebooks/data_table.ipynb>data table notebook</a>'\n",
              "            + ' to learn more about interactive tables.';\n",
              "          element.innerHTML = '';\n",
              "          dataTable['output_type'] = 'display_data';\n",
              "          await google.colab.output.renderOutput(dataTable, element);\n",
              "          const docLink = document.createElement('div');\n",
              "          docLink.innerHTML = docLinkHtml;\n",
              "          element.appendChild(docLink);\n",
              "        }\n",
              "      </script>\n",
              "    </div>\n",
              "  </div>\n",
              "  "
            ]
          },
          "metadata": {},
          "execution_count": 10
        }
      ]
    },
    {
      "cell_type": "markdown",
      "source": [
        "#Number of sellers by date"
      ],
      "metadata": {
        "id": "OJ2m0lpu9HI2"
      }
    },
    {
      "cell_type": "code",
      "source": [
        "#No of visitors by date\n",
        "data = df.loc[:,['event_time','user_id']]\n",
        "#Extracting only dates\n",
        "data['event_time'] = data['event_time'].apply(lambda s: str(s)[0:10])\n",
        "visitor_by_date = data.drop_duplicates().groupby(['event_time'])['user_id'].agg(['count']).sort_values(by=['event_time'], ascending=True)\n",
        "x = pd.Series(visitor_by_date.index.values).apply(lambda s: datetime.strptime(s, '%Y-%m-%d').date())\n",
        "y = visitor_by_date['count']\n",
        "plt.rcParams['figure.figsize'] = (20,8)\n",
        "\n",
        "plt.plot(x,y)\n",
        "plt.show()"
      ],
      "metadata": {
        "colab": {
          "base_uri": "https://localhost:8080/",
          "height": 483
        },
        "id": "drRc-DP18YXq",
        "outputId": "627cdfe0-023b-4977-8fbc-73053f338d71"
      },
      "execution_count": 11,
      "outputs": [
        {
          "output_type": "display_data",
          "data": {
            "text/plain": [
              "<Figure size 1440x576 with 1 Axes>"
            ],
            "image/png": "[encoded data removed]"
          },
          "metadata": {
            "needs_background": "light"
          }
        }
      ]
    },
    {
      "cell_type": "markdown",
      "source": [
        "#Most brought brands"
      ],
      "metadata": {
        "id": "OsRDLtkN9Bhr"
      }
    },
    {
      "cell_type": "code",
      "source": [
        "df['brand'].value_counts()\n",
        "df['event_type'].value_counts()"
      ],
      "metadata": {
        "colab": {
          "base_uri": "https://localhost:8080/"
        },
        "id": "T415-KDZ8mPn",
        "outputId": "10f1f980-3707-4301-f4dc-3c2653f991b9"
      },
      "execution_count": 12,
      "outputs": [
        {
          "output_type": "execute_result",
          "data": {
            "text/plain": [
              "view                2076132\n",
              "cart                1311807\n",
              "remove_from_cart     925481\n",
              "purchase             322417\n",
              "Name: event_type, dtype: int64"
            ]
          },
          "metadata": {},
          "execution_count": 12
        }
      ]
    },
    {
      "cell_type": "code",
      "source": [
        "title_type = df.groupby('brand').agg('count')\n",
        "print(title_type)\n",
        "type_labels = title_type.user_id.sort_values().index\n",
        "type_counts = title_type.user_id.sort_values()\n",
        "plt.figure(1,figsize =(20,10))\n",
        "the_grid = GridSpec(2,2)\n",
        "cmap = plt.get_cmap('Spectral')\n",
        "colors = [cmap(i) for i in np.linspace(0,1,8)]\n",
        "plt.subplot(the_grid[0,1],aspect=1,title = 'Brand titles')\n",
        "type_show_ids = plt.pie(type_counts,labels = type_labels,autopct = '%1.1f%%',shadow = True,colors = colors)\n",
        "plt.show()"
      ],
      "metadata": {
        "colab": {
          "base_uri": "https://localhost:8080/",
          "height": 812
        },
        "id": "7yE6O20Q8wda",
        "outputId": "6fc22d91-eb98-4b9b-80c8-ae716ba3c36e"
      },
      "execution_count": 13,
      "outputs": [
        {
          "output_type": "stream",
          "name": "stdout",
          "text": [
            "            event_time  event_type  product_id  category_id  category_code  \\\n",
            "brand                                                                        \n",
            "airnails         19979       19979       19979        19979              0   \n",
            "almea             1094        1094        1094         1094              0   \n",
            "andrea             101         101         101          101              0   \n",
            "ardell            4416        4416        4416         4416              0   \n",
            "art-visage       15206       15206       15206        15206              0   \n",
            "...                ...         ...         ...          ...            ...   \n",
            "ypsed              542         542         542          542              2   \n",
            "yu-r               586         586         586          586              0   \n",
            "zab                 19          19          19           19              0   \n",
            "zeitun            3480        3480        3480         3480              0   \n",
            "zinger           22287       22287       22287        22287              0   \n",
            "\n",
            "            price  user_id  user_session  \n",
            "brand                                     \n",
            "airnails    19979    19979         19977  \n",
            "almea        1094     1094          1093  \n",
            "andrea        101      101           101  \n",
            "ardell       4416     4416          4409  \n",
            "art-visage  15206    15206         15203  \n",
            "...           ...      ...           ...  \n",
            "ypsed         542      542           542  \n",
            "yu-r          586      586           586  \n",
            "zab            19       19            19  \n",
            "zeitun       3480     3480          3479  \n",
            "zinger      22287    22287         22286  \n",
            "\n",
            "[239 rows x 8 columns]\n"
          ]
        },
        {
          "output_type": "display_data",
          "data": {
            "text/plain": [
              "<Figure size 1440x720 with 1 Axes>"
            ],
            "image/png": "[encoded data removed]"
          },
          "metadata": {}
        }
      ]
    },
    {
      "cell_type": "markdown",
      "source": [
        "#Popular product categories"
      ],
      "metadata": {
        "id": "TVPGtg9z9E61"
      }
    },
    {
      "cell_type": "code",
      "source": [
        "top_category_n = 30\n",
        "top_category = df.loc[:,'category_code'].value_counts()[:top_category_n].sort_values(ascending=False)\n",
        "squarify.plot(sizes=top_category, label=top_category.index.array, color=[\"red\",\"cyan\",\"green\",\"orange\",\"blue\",\"grey\"], alpha=.7  )\n",
        "plt.axis('off')\n",
        "plt.show()"
      ],
      "metadata": {
        "colab": {
          "base_uri": "https://localhost:8080/",
          "height": 466
        },
        "id": "dbVUREso81Ye",
        "outputId": "b6917cbe-7d20-4c59-9675-173a4f35cb02"
      },
      "execution_count": 16,
      "outputs": [
        {
          "output_type": "display_data",
          "data": {
            "text/plain": [
              "<Figure size 1440x576 with 1 Axes>"
            ],
            "image/png": "[encoded data removed]"
          },
          "metadata": {
            "needs_background": "light"
          }
        }
      ]
    },
    {
      "cell_type": "code",
      "source": [
        "labels = ['view', 'cart','purchase', 'remove_from_cart']\n",
        "size = df['event_type'].value_counts()\n",
        "colors = ['yellowgreen', 'lightskyblue','lightcoral']\n",
        "explode = [0, 0.1,0.1]\n",
        "\n",
        "plt.rcParams['figure.figsize'] = (8, 8)\n",
        "plt.pie(size, colors = colors, explode = explode, labels = labels, shadow = True, autopct = '%.2f%%')\n",
        "plt.title('Event_Type', fontsize = 20)\n",
        "plt.axis('off')\n",
        "plt.legend()\n",
        "plt.show()"
      ],
      "metadata": {
        "colab": {
          "base_uri": "https://localhost:8080/",
          "height": 1000
        },
        "id": "25bPj83Z-wsA",
        "outputId": "857ebb6d-1a3e-49b6-903a-96995b55b26e"
      },
      "execution_count": 18,
      "outputs": [
        {
          "output_type": "error",
          "ename": "ValueError",
          "evalue": "ignored",
          "traceback": [
            "\u001b[0;31m---------------------------------------------------------------------------\u001b[0m",
            "\u001b[0;31mValueError\u001b[0m                                Traceback (most recent call last)",
            "\u001b[0;32m<ipython-input-18-f0d4811d9af1>\u001b[0m in \u001b[0;36m<module>\u001b[0;34m()\u001b[0m\n\u001b[1;32m      5\u001b[0m \u001b[0;34m\u001b[0m\u001b[0m\n\u001b[1;32m      6\u001b[0m \u001b[0mplt\u001b[0m\u001b[0;34m.\u001b[0m\u001b[0mrcParams\u001b[0m\u001b[0;34m[\u001b[0m\u001b[0;34m'figure.figsize'\u001b[0m\u001b[0;34m]\u001b[0m \u001b[0;34m=\u001b[0m \u001b[0;34m(\u001b[0m\u001b[0;36m8\u001b[0m\u001b[0;34m,\u001b[0m \u001b[0;36m8\u001b[0m\u001b[0;34m)\u001b[0m\u001b[0;34m\u001b[0m\u001b[0;34m\u001b[0m\u001b[0m\n\u001b[0;32m----> 7\u001b[0;31m \u001b[0mplt\u001b[0m\u001b[0;34m.\u001b[0m\u001b[0mpie\u001b[0m\u001b[0;34m(\u001b[0m\u001b[0msize\u001b[0m\u001b[0;34m,\u001b[0m \u001b[0mcolors\u001b[0m \u001b[0;34m=\u001b[0m \u001b[0mcolors\u001b[0m\u001b[0;34m,\u001b[0m \u001b[0mexplode\u001b[0m \u001b[0;34m=\u001b[0m \u001b[0mexplode\u001b[0m\u001b[0;34m,\u001b[0m \u001b[0mlabels\u001b[0m \u001b[0;34m=\u001b[0m \u001b[0mlabels\u001b[0m\u001b[0;34m,\u001b[0m \u001b[0mshadow\u001b[0m \u001b[0;34m=\u001b[0m \u001b[0;32mTrue\u001b[0m\u001b[0;34m,\u001b[0m \u001b[0mautopct\u001b[0m \u001b[0;34m=\u001b[0m \u001b[0;34m'%.2f%%'\u001b[0m\u001b[0;34m)\u001b[0m\u001b[0;34m\u001b[0m\u001b[0;34m\u001b[0m\u001b[0m\n\u001b[0m\u001b[1;32m      8\u001b[0m \u001b[0mplt\u001b[0m\u001b[0;34m.\u001b[0m\u001b[0mtitle\u001b[0m\u001b[0;34m(\u001b[0m\u001b[0;34m'Event_Type'\u001b[0m\u001b[0;34m,\u001b[0m \u001b[0mfontsize\u001b[0m \u001b[0;34m=\u001b[0m \u001b[0;36m20\u001b[0m\u001b[0;34m)\u001b[0m\u001b[0;34m\u001b[0m\u001b[0;34m\u001b[0m\u001b[0m\n\u001b[1;32m      9\u001b[0m \u001b[0mplt\u001b[0m\u001b[0;34m.\u001b[0m\u001b[0maxis\u001b[0m\u001b[0;34m(\u001b[0m\u001b[0;34m'off'\u001b[0m\u001b[0;34m)\u001b[0m\u001b[0;34m\u001b[0m\u001b[0;34m\u001b[0m\u001b[0m\n",
            "\u001b[0;32m/usr/local/lib/python3.7/dist-packages/matplotlib/pyplot.py\u001b[0m in \u001b[0;36mpie\u001b[0;34m(x, explode, labels, colors, autopct, pctdistance, shadow, labeldistance, startangle, radius, counterclock, wedgeprops, textprops, center, frame, rotatelabels, data)\u001b[0m\n\u001b[1;32m   2753\u001b[0m         \u001b[0mwedgeprops\u001b[0m\u001b[0;34m=\u001b[0m\u001b[0mwedgeprops\u001b[0m\u001b[0;34m,\u001b[0m \u001b[0mtextprops\u001b[0m\u001b[0;34m=\u001b[0m\u001b[0mtextprops\u001b[0m\u001b[0;34m,\u001b[0m \u001b[0mcenter\u001b[0m\u001b[0;34m=\u001b[0m\u001b[0mcenter\u001b[0m\u001b[0;34m,\u001b[0m\u001b[0;34m\u001b[0m\u001b[0;34m\u001b[0m\u001b[0m\n\u001b[1;32m   2754\u001b[0m         frame=frame, rotatelabels=rotatelabels, **({\"data\": data} if\n\u001b[0;32m-> 2755\u001b[0;31m         data is not None else {}))\n\u001b[0m\u001b[1;32m   2756\u001b[0m \u001b[0;34m\u001b[0m\u001b[0m\n\u001b[1;32m   2757\u001b[0m \u001b[0;34m\u001b[0m\u001b[0m\n",
            "\u001b[0;32m/usr/local/lib/python3.7/dist-packages/matplotlib/__init__.py\u001b[0m in \u001b[0;36minner\u001b[0;34m(ax, data, *args, **kwargs)\u001b[0m\n\u001b[1;32m   1563\u001b[0m     \u001b[0;32mdef\u001b[0m \u001b[0minner\u001b[0m\u001b[0;34m(\u001b[0m\u001b[0max\u001b[0m\u001b[0;34m,\u001b[0m \u001b[0;34m*\u001b[0m\u001b[0margs\u001b[0m\u001b[0;34m,\u001b[0m \u001b[0mdata\u001b[0m\u001b[0;34m=\u001b[0m\u001b[0;32mNone\u001b[0m\u001b[0;34m,\u001b[0m \u001b[0;34m**\u001b[0m\u001b[0mkwargs\u001b[0m\u001b[0;34m)\u001b[0m\u001b[0;34m:\u001b[0m\u001b[0;34m\u001b[0m\u001b[0;34m\u001b[0m\u001b[0m\n\u001b[1;32m   1564\u001b[0m         \u001b[0;32mif\u001b[0m \u001b[0mdata\u001b[0m \u001b[0;32mis\u001b[0m \u001b[0;32mNone\u001b[0m\u001b[0;34m:\u001b[0m\u001b[0;34m\u001b[0m\u001b[0;34m\u001b[0m\u001b[0m\n\u001b[0;32m-> 1565\u001b[0;31m             \u001b[0;32mreturn\u001b[0m \u001b[0mfunc\u001b[0m\u001b[0;34m(\u001b[0m\u001b[0max\u001b[0m\u001b[0;34m,\u001b[0m \u001b[0;34m*\u001b[0m\u001b[0mmap\u001b[0m\u001b[0;34m(\u001b[0m\u001b[0msanitize_sequence\u001b[0m\u001b[0;34m,\u001b[0m \u001b[0margs\u001b[0m\u001b[0;34m)\u001b[0m\u001b[0;34m,\u001b[0m \u001b[0;34m**\u001b[0m\u001b[0mkwargs\u001b[0m\u001b[0;34m)\u001b[0m\u001b[0;34m\u001b[0m\u001b[0;34m\u001b[0m\u001b[0m\n\u001b[0m\u001b[1;32m   1566\u001b[0m \u001b[0;34m\u001b[0m\u001b[0m\n\u001b[1;32m   1567\u001b[0m         \u001b[0mbound\u001b[0m \u001b[0;34m=\u001b[0m \u001b[0mnew_sig\u001b[0m\u001b[0;34m.\u001b[0m\u001b[0mbind\u001b[0m\u001b[0;34m(\u001b[0m\u001b[0max\u001b[0m\u001b[0;34m,\u001b[0m \u001b[0;34m*\u001b[0m\u001b[0margs\u001b[0m\u001b[0;34m,\u001b[0m \u001b[0;34m**\u001b[0m\u001b[0mkwargs\u001b[0m\u001b[0;34m)\u001b[0m\u001b[0;34m\u001b[0m\u001b[0;34m\u001b[0m\u001b[0m\n",
            "\u001b[0;32m/usr/local/lib/python3.7/dist-packages/matplotlib/axes/_axes.py\u001b[0m in \u001b[0;36mpie\u001b[0;34m(self, x, explode, labels, colors, autopct, pctdistance, shadow, labeldistance, startangle, radius, counterclock, wedgeprops, textprops, center, frame, rotatelabels)\u001b[0m\n\u001b[1;32m   2929\u001b[0m             \u001b[0;32mraise\u001b[0m \u001b[0mValueError\u001b[0m\u001b[0;34m(\u001b[0m\u001b[0;34m\"'label' must be of length 'x'\"\u001b[0m\u001b[0;34m)\u001b[0m\u001b[0;34m\u001b[0m\u001b[0;34m\u001b[0m\u001b[0m\n\u001b[1;32m   2930\u001b[0m         \u001b[0;32mif\u001b[0m \u001b[0mlen\u001b[0m\u001b[0;34m(\u001b[0m\u001b[0mx\u001b[0m\u001b[0;34m)\u001b[0m \u001b[0;34m!=\u001b[0m \u001b[0mlen\u001b[0m\u001b[0;34m(\u001b[0m\u001b[0mexplode\u001b[0m\u001b[0;34m)\u001b[0m\u001b[0;34m:\u001b[0m\u001b[0;34m\u001b[0m\u001b[0;34m\u001b[0m\u001b[0m\n\u001b[0;32m-> 2931\u001b[0;31m             \u001b[0;32mraise\u001b[0m \u001b[0mValueError\u001b[0m\u001b[0;34m(\u001b[0m\u001b[0;34m\"'explode' must be of length 'x'\"\u001b[0m\u001b[0;34m)\u001b[0m\u001b[0;34m\u001b[0m\u001b[0;34m\u001b[0m\u001b[0m\n\u001b[0m\u001b[1;32m   2932\u001b[0m         \u001b[0;32mif\u001b[0m \u001b[0mcolors\u001b[0m \u001b[0;32mis\u001b[0m \u001b[0;32mNone\u001b[0m\u001b[0;34m:\u001b[0m\u001b[0;34m\u001b[0m\u001b[0;34m\u001b[0m\u001b[0m\n\u001b[1;32m   2933\u001b[0m             \u001b[0mget_next_color\u001b[0m \u001b[0;34m=\u001b[0m \u001b[0mself\u001b[0m\u001b[0;34m.\u001b[0m\u001b[0m_get_patches_for_fill\u001b[0m\u001b[0;34m.\u001b[0m\u001b[0mget_next_color\u001b[0m\u001b[0;34m\u001b[0m\u001b[0;34m\u001b[0m\u001b[0m\n",
            "\u001b[0;31mValueError\u001b[0m: 'explode' must be of length 'x'"
          ]
        },
        {
          "output_type": "display_data",
          "data": {
            "text/plain": [
              "<Figure size 576x576 with 1 Axes>"
            ],
            "image/png": "[encoded data removed]"
          },
          "metadata": {
            "needs_background": "light"
          }
        }
      ]
    },
    {
      "cell_type": "markdown",
      "source": [
        "#Conversion rates"
      ],
      "metadata": {
        "id": "9PqtMBkV_XvJ"
      }
    },
    {
      "cell_type": "markdown",
      "source": [
        "1.Count of people who viewed the item.\n",
        "\n",
        "2.Count of people who added the item to cart.\n",
        "\n",
        "3.Count of people who bought the item."
      ],
      "metadata": {
        "id": "gxYnuRyI_dhK"
      }
    },
    {
      "cell_type": "code",
      "source": [
        "view_count = df['event_type'].value_counts()[0]\n",
        "cart_count = df['event_type'].value_counts()[1]\n",
        "purchase_count = df['event_type'].value_counts()[2]\n",
        "print(\"Rate of conversion between view and purchase events\" + ' '+str((purchase_count/view_count)*100) +'%')\n",
        "print(\"Rate of conversion between view and add to cart events\" + ' '+str((cart_count/view_count)*100) +'%')\n",
        "print(\"Rate of conversion between add to cart and purchase events\" + ' '+str((purchase_count/cart_count)*100) +'%')"
      ],
      "metadata": {
        "colab": {
          "base_uri": "https://localhost:8080/"
        },
        "id": "9XlXJPF6_VxX",
        "outputId": "b1efe758-2fff-4dda-996e-29440cb0bfff"
      },
      "execution_count": 20,
      "outputs": [
        {
          "output_type": "stream",
          "name": "stdout",
          "text": [
            "Rate of conversion between view and purchase events 44.57717524704595%\n",
            "Rate of conversion between view and add to cart events 63.18514429718341%\n",
            "Rate of conversion between add to cart and purchase events 70.55008854198826%\n"
          ]
        }
      ]
    },
    {
      "cell_type": "markdown",
      "source": [
        "#Brands"
      ],
      "metadata": {
        "id": "rTM2g-4Y_xpt"
      }
    },
    {
      "cell_type": "code",
      "source": [
        "df['brand'].value_counts().head(50).plot.bar(figsize = (18,7))\n",
        "plt.title('Top brand',fontsize = 20)\n",
        "plt.xlabel('Names of brand')\n",
        "plt.ylabel('Count')\n",
        "plt.show()"
      ],
      "metadata": {
        "colab": {
          "base_uri": "https://localhost:8080/",
          "height": 511
        },
        "id": "YzMMatQY-14Z",
        "outputId": "088facd0-f735-4e41-e58e-c8c313cc6c3e"
      },
      "execution_count": 21,
      "outputs": [
        {
          "output_type": "display_data",
          "data": {
            "text/plain": [
              "<Figure size 1296x504 with 1 Axes>"
            ],
            "image/png": "[encoded data removed]"
          },
          "metadata": {
            "needs_background": "light"
          }
        }
      ]
    },
    {
      "cell_type": "code",
      "source": [
        "d = df.loc[df['event_type'].isin(['purchase'])].drop_duplicates()\n",
        "print(d['brand'].value_counts())\n",
        "d['brand'].value_counts().head(70).plot.bar(figsize =(18,7))\n",
        "plt.xlabel('Names of brand')\n",
        "plt.ylabel('Count')\n",
        "plt.show()"
      ],
      "metadata": {
        "colab": {
          "base_uri": "https://localhost:8080/",
          "height": 704
        },
        "id": "LcHY2WLm_wBC",
        "outputId": "e7bd9d7f-49e0-466c-dad4-a454b3e3d83e"
      },
      "execution_count": 22,
      "outputs": [
        {
          "output_type": "stream",
          "name": "stdout",
          "text": [
            "runail        25997\n",
            "irisk         16364\n",
            "grattol       13613\n",
            "bpw.style     12985\n",
            "masura        11435\n",
            "              ...  \n",
            "sun               1\n",
            "helloganic        1\n",
            "ovale             1\n",
            "neoleor           1\n",
            "skipofit          1\n",
            "Name: brand, Length: 213, dtype: int64\n"
          ]
        },
        {
          "output_type": "display_data",
          "data": {
            "text/plain": [
              "<Figure size 1296x504 with 1 Axes>"
            ],
            "image/png": "[encoded data removed]"
          },
          "metadata": {
            "needs_background": "light"
          }
        }
      ]
    },
    {
      "cell_type": "code",
      "source": [
        "top_player = df['brand'].value_counts()[0]\n",
        "second_player = df['brand'].value_counts()[1]\n",
        "last_player = df['brand'].value_counts()[-1]\n",
        "print(\"Top brand saw \" + ''+str((top_player/second_player)*100)+' '+\"%more sales than second_player in the market\")\n",
        "print(\"Top brand saw \" +''+str((top_player/last_player)*100)+' '+\"%more sales than bottom player in the market\")"
      ],
      "metadata": {
        "colab": {
          "base_uri": "https://localhost:8080/"
        },
        "id": "-xZXjShe_9s2",
        "outputId": "f0a6c24b-ac7c-413e-bde4-4fb127d6fe1d"
      },
      "execution_count": 24,
      "outputs": [
        {
          "output_type": "stream",
          "name": "stdout",
          "text": [
            "Top brand saw 159.11695843415396 %more sales than second_player in the market\n",
            "Top brand saw 32485000.0 %more sales than bottom player in the market\n"
          ]
        }
      ]
    },
    {
      "cell_type": "markdown",
      "source": [
        "#List of people who has bought or added products to the cart"
      ],
      "metadata": {
        "id": "BLJlCGLzAoRC"
      }
    },
    {
      "cell_type": "code",
      "source": [
        "cart_purchase_users = df.loc[df[\"event_type\"].isin([\"cart\",\"purchase\"])].drop_duplicates(subset=['user_id'])\n",
        "cart_purchase_users.dropna(how='any', inplace=True)\n",
        "print(cart_purchase_users)"
      ],
      "metadata": {
        "colab": {
          "base_uri": "https://localhost:8080/"
        },
        "id": "eHw8tDu7AX1p",
        "outputId": "9a7d9c4c-a406-4e68-8ade-8c66d79fee36"
      },
      "execution_count": 26,
      "outputs": [
        {
          "output_type": "stream",
          "name": "stdout",
          "text": [
            "                      event_time event_type  product_id          category_id  \\\n",
            "376      2019-11-01 00:29:32 UTC       cart     5749199  1487580013053083824   \n",
            "446      2019-11-01 00:34:01 UTC       cart     5885590  1487580006350586771   \n",
            "980      2019-11-01 01:08:03 UTC       cart     5749199  1487580013053083824   \n",
            "2515     2019-11-01 02:37:04 UTC       cart     5823936  1487580006350586771   \n",
            "5936     2019-11-01 04:39:47 UTC       cart     5767493  1487580013053083824   \n",
            "...                          ...        ...         ...                  ...   \n",
            "4602929  2019-11-30 19:12:05 UTC       cart     5810084  1487580006350586771   \n",
            "4608048  2019-11-30 19:35:16 UTC       cart     5856191  1487580006350586771   \n",
            "4613282  2019-11-30 20:00:16 UTC       cart     5749198  1487580013053083824   \n",
            "4616301  2019-11-30 20:13:25 UTC       cart     5810082  1487580006350586771   \n",
            "4633927  2019-11-30 22:59:09 UTC       cart     5856193  2193074740619379535   \n",
            "\n",
            "                         category_code    brand  price    user_id  \\\n",
            "376                stationery.cartrige  italwax   1.98  457604149   \n",
            "446      appliances.environment.vacuum  polarus  78.57  566283723   \n",
            "980                stationery.cartrige  italwax   1.98  566288039   \n",
            "2515     appliances.environment.vacuum  polarus  57.94  551119191   \n",
            "5936               stationery.cartrige  italwax   2.14  318123509   \n",
            "...                                ...      ...    ...        ...   \n",
            "4602929  appliances.environment.vacuum    irisk  20.90  579857098   \n",
            "4608048  appliances.environment.vacuum   runail  22.00  441984707   \n",
            "4613282            stationery.cartrige  italwax   1.87  456480927   \n",
            "4616301  appliances.environment.vacuum    irisk  22.14  579890584   \n",
            "4633927  furniture.living_room.cabinet   runail  82.54  579953053   \n",
            "\n",
            "                                 user_session  \n",
            "376      34adbc64-eebc-4d45-8542-547b9c20f6c1  \n",
            "446      b023f80f-362b-43fe-a3b0-d32279f42a82  \n",
            "980      209e5c4c-30af-40aa-8340-727e5f5c1584  \n",
            "2515     4dd83fe4-fb23-4387-a522-7324ecfee515  \n",
            "5936     3cba8286-b5ad-470c-b7f4-ba0450df1214  \n",
            "...                                       ...  \n",
            "4602929  f896dd59-aa48-473d-9e24-78459777b926  \n",
            "4608048  d00ba8f6-2a5f-484a-8f7d-fddb0e5d6dc9  \n",
            "4613282  882c43d6-d91d-461d-9b83-f442e8a29c51  \n",
            "4616301  65d0fe8d-6a84-4242-8e45-f790d35ba086  \n",
            "4633927  a88eba13-d03f-4ffb-b5b9-d71651df2832  \n",
            "\n",
            "[1300 rows x 9 columns]\n"
          ]
        }
      ]
    },
    {
      "cell_type": "markdown",
      "source": [
        "#All activities of above users including view event"
      ],
      "metadata": {
        "id": "AcYq1hJpAv8o"
      }
    },
    {
      "cell_type": "code",
      "source": [
        "cart_purchase_users_all_activity = df.loc[df['user_id'].isin(cart_purchase_users['user_id'])]\n",
        "print(cart_purchase_users_all_activity)"
      ],
      "metadata": {
        "colab": {
          "base_uri": "https://localhost:8080/"
        },
        "id": "U-uHWZG3Ar15",
        "outputId": "ff24f853-4de9-46d9-eba4-e9b37af83d41"
      },
      "execution_count": 27,
      "outputs": [
        {
          "output_type": "stream",
          "name": "stdout",
          "text": [
            "                      event_time event_type  product_id          category_id  \\\n",
            "252      2019-11-01 00:18:27 UTC       view     5743974  1487580013053083824   \n",
            "365      2019-11-01 00:28:53 UTC       view     5657900  1487580013053083824   \n",
            "376      2019-11-01 00:29:32 UTC       cart     5749199  1487580013053083824   \n",
            "382      2019-11-01 00:29:59 UTC       cart     5775814  1487580013053083824   \n",
            "387      2019-11-01 00:30:07 UTC       view     5885590  1487580006350586771   \n",
            "...                          ...        ...         ...                  ...   \n",
            "4633396  2019-11-30 22:45:46 UTC       view     5560758  1487580006300255120   \n",
            "4633469  2019-11-30 22:47:52 UTC       view     5854573  1487580006350586771   \n",
            "4633927  2019-11-30 22:59:09 UTC       cart     5856193  2193074740619379535   \n",
            "4633936  2019-11-30 22:59:26 UTC       view     5856193  2193074740619379535   \n",
            "4634032  2019-11-30 23:02:00 UTC       view     5774248  2193074740619379535   \n",
            "\n",
            "                         category_code     brand   price    user_id  \\\n",
            "252                stationery.cartrige   italwax    1.98  370706182   \n",
            "365                stationery.cartrige       NaN    2.06  457604149   \n",
            "376                stationery.cartrige   italwax    1.98  457604149   \n",
            "382                stationery.cartrige   italwax    1.98  457604149   \n",
            "387      appliances.environment.vacuum   polarus   78.57  566283723   \n",
            "...                                ...       ...     ...        ...   \n",
            "4633396                            NaN    strong  187.30  570957224   \n",
            "4633469  appliances.environment.vacuum  jessnail   46.83  477178295   \n",
            "4633927  furniture.living_room.cabinet    runail   82.54  579953053   \n",
            "4633936  furniture.living_room.cabinet    runail   82.54  579953053   \n",
            "4634032  furniture.living_room.cabinet       NaN   79.35  579953053   \n",
            "\n",
            "                                 user_session  \n",
            "252      6223f8f8-7eb1-498a-b35e-8292ea3c7b9e  \n",
            "365      34adbc64-eebc-4d45-8542-547b9c20f6c1  \n",
            "376      34adbc64-eebc-4d45-8542-547b9c20f6c1  \n",
            "382      34adbc64-eebc-4d45-8542-547b9c20f6c1  \n",
            "387      b023f80f-362b-43fe-a3b0-d32279f42a82  \n",
            "...                                       ...  \n",
            "4633396  ce2f4491-70f3-490b-a8da-d3cc663ce53c  \n",
            "4633469  9003151b-9fc9-4d87-a488-451a04e761c0  \n",
            "4633927  a88eba13-d03f-4ffb-b5b9-d71651df2832  \n",
            "4633936  a88eba13-d03f-4ffb-b5b9-d71651df2832  \n",
            "4634032  a88eba13-d03f-4ffb-b5b9-d71651df2832  \n",
            "\n",
            "[52195 rows x 9 columns]\n"
          ]
        }
      ]
    },
    {
      "cell_type": "markdown",
      "source": [
        "##Counting no of activities in one session"
      ],
      "metadata": {
        "id": "vrxiXX7ZBFbH"
      }
    },
    {
      "cell_type": "code",
      "source": [
        "activity_in_session = cart_purchase_users_all_activity.groupby(['user_session'])['event_type'].count().reset_index()\n",
        "activity_in_session = activity_in_session.rename(columns={\"event_type\":\"activity_count\"})\n",
        "print(activity_in_session)"
      ],
      "metadata": {
        "colab": {
          "base_uri": "https://localhost:8080/"
        },
        "id": "S82TLK_tAzEr",
        "outputId": "df19f8a6-fe09-4929-acd8-cc90710ad0ad"
      },
      "execution_count": 28,
      "outputs": [
        {
          "output_type": "stream",
          "name": "stdout",
          "text": [
            "                              user_session  activity_count\n",
            "0     0014f534-f34d-47b9-9720-363d184b21b9               1\n",
            "1     0036d3ff-652f-4cc7-b1f0-b7d23ecfc092               4\n",
            "2     003c1d09-749a-44b2-b0af-9c82c9a11182              70\n",
            "3     0043a9c0-6a69-4a8e-bad0-e065c2797118               1\n",
            "4     0048da97-22ea-4d7b-a2c2-4a376f754a51               1\n",
            "...                                    ...             ...\n",
            "6861  ffe1f40e-242a-4a39-926b-e5df4321bf61               1\n",
            "6862  ffe2ee5c-2b63-46f8-b7bd-090e9f0b4966               3\n",
            "6863  ffe84b00-701e-4501-8e07-f7e41c44600c              11\n",
            "6864  fff32e24-e6c9-4aca-a600-ba16c33c5c45              18\n",
            "6865  fff6d5a8-c813-48d2-a9e2-49db9d500bfa               1\n",
            "\n",
            "[6866 rows x 2 columns]\n"
          ]
        }
      ]
    },
    {
      "cell_type": "code",
      "source": [
        "def convert_time_to_date(utc_timestamp):\n",
        "  utc_date = datetime.strptime(utc_timestamp[0:10],'%Y-%m-%d').date()\n",
        "  return utc_date"
      ],
      "metadata": {
        "id": "mYN8tP_CBHvy"
      },
      "execution_count": 29,
      "outputs": []
    },
    {
      "cell_type": "markdown",
      "source": [
        "##Extract event date from event_time column and find on which date the activity occurs"
      ],
      "metadata": {
        "id": "7MWKgGdvBSwK"
      }
    },
    {
      "cell_type": "code",
      "source": [
        "df['event_date'] = df['event_time'].apply(lambda s:convert_time_to_date(s))"
      ],
      "metadata": {
        "id": "I7I0JwnHBMvz"
      },
      "execution_count": 30,
      "outputs": []
    },
    {
      "cell_type": "markdown",
      "source": [
        "Splitting of category and sub category is done by string handling"
      ],
      "metadata": {
        "id": "YqZSCOi1Be0W"
      }
    },
    {
      "cell_type": "code",
      "source": [
        "df_targets = df.loc[df[\"event_type\"].isin([\"cart\",\"purchase\"])].drop_duplicates(subset = ['event_type','product_id','price','user_id','user_session'])\n",
        "df_targets[\"is_purchased\"] = np.where(df_targets[\"event_type\"]==\"purchase\",1,0)\n",
        "df_targets[\"is_purchased\"] = df_targets.groupby([\"user_session\",\"product_id\"])[\"is_purchased\"].transform(\"max\")\n",
        "df_targets = df_targets.loc[df_targets[\"event_type\"]=='cart'].drop_duplicates([\"user_session\",\"product_id\",\"is_purchased\"])\n",
        "df_targets['event_weekday'] = df_targets['event_date'].apply(lambda s:s.weekday())\n",
        "df_targets.dropna(how = 'any',inplace = True)\n",
        "df_targets[\"category_code_level1\"] = df_targets[\"category_code\"].str.split(\",\",expand = True)[0].astype('category')"
      ],
      "metadata": {
        "id": "DTilZ2HuBPwj"
      },
      "execution_count": 32,
      "outputs": []
    },
    {
      "cell_type": "code",
      "source": [
        "df_targets = df_targets.merge(activity_in_session, on = 'user_session',how ='left')\n",
        "df_targets['activity_count'] = df_targets['activity_count'].fillna(0)\n",
        "df_targets.head()"
      ],
      "metadata": {
        "colab": {
          "base_uri": "https://localhost:8080/",
          "height": 513
        },
        "id": "BHqp27viBj5j",
        "outputId": "e17c06c2-24a7-4aa0-d404-b75ba009939d"
      },
      "execution_count": 33,
      "outputs": [
        {
          "output_type": "execute_result",
          "data": {
            "text/plain": [
              "                event_time event_type  product_id          category_id  \\\n",
              "0  2019-11-01 00:29:32 UTC       cart     5749199  1487580013053083824   \n",
              "1  2019-11-01 00:29:59 UTC       cart     5775814  1487580013053083824   \n",
              "2  2019-11-01 00:30:24 UTC       cart     5788783  1487580013053083824   \n",
              "3  2019-11-01 00:30:49 UTC       cart     5855510  1487580006350586771   \n",
              "4  2019-11-01 00:34:01 UTC       cart     5885590  1487580006350586771   \n",
              "\n",
              "                   category_code    brand  price    user_id  \\\n",
              "0            stationery.cartrige  italwax   1.98  457604149   \n",
              "1            stationery.cartrige  italwax   1.98  457604149   \n",
              "2            stationery.cartrige  italwax   1.98  457604149   \n",
              "3  appliances.environment.vacuum      max  95.08  513114494   \n",
              "4  appliances.environment.vacuum  polarus  78.57  566283723   \n",
              "\n",
              "                           user_session  event_date  is_purchased  \\\n",
              "0  34adbc64-eebc-4d45-8542-547b9c20f6c1  2019-11-01           1.0   \n",
              "1  34adbc64-eebc-4d45-8542-547b9c20f6c1  2019-11-01           1.0   \n",
              "2  34adbc64-eebc-4d45-8542-547b9c20f6c1  2019-11-01           1.0   \n",
              "3  4d9cd992-d34d-4dc4-abe8-0f941ae1fa97  2019-11-01           0.0   \n",
              "4  b023f80f-362b-43fe-a3b0-d32279f42a82  2019-11-01           0.0   \n",
              "\n",
              "   event_weekday           category_code_level1  activity_count  \n",
              "0              4            stationery.cartrige            17.0  \n",
              "1              4            stationery.cartrige            17.0  \n",
              "2              4            stationery.cartrige            17.0  \n",
              "3              4  appliances.environment.vacuum             0.0  \n",
              "4              4  appliances.environment.vacuum             5.0  "
            ],
            "text/html": [
              "\n",
              "  <div id=\"df-0150456b-276f-4de2-928d-1a904ffae95a\">\n",
              "    <div class=\"colab-df-container\">\n",
              "      <div>\n",
              "<style scoped>\n",
              "    .dataframe tbody tr th:only-of-type {\n",
              "        vertical-align: middle;\n",
              "    }\n",
              "\n",
              "    .dataframe tbody tr th {\n",
              "        vertical-align: top;\n",
              "    }\n",
              "\n",
              "    .dataframe thead th {\n",
              "        text-align: right;\n",
              "    }\n",
              "</style>\n",
              "<table border=\"1\" class=\"dataframe\">\n",
              "  <thead>\n",
              "    <tr style=\"text-align: right;\">\n",
              "      <th></th>\n",
              "      <th>event_time</th>\n",
              "      <th>event_type</th>\n",
              "      <th>product_id</th>\n",
              "      <th>category_id</th>\n",
              "      <th>category_code</th>\n",
              "      <th>brand</th>\n",
              "      <th>price</th>\n",
              "      <th>user_id</th>\n",
              "      <th>user_session</th>\n",
              "      <th>event_date</th>\n",
              "      <th>is_purchased</th>\n",
              "      <th>event_weekday</th>\n",
              "      <th>category_code_level1</th>\n",
              "      <th>activity_count</th>\n",
              "    </tr>\n",
              "  </thead>\n",
              "  <tbody>\n",
              "    <tr>\n",
              "      <th>0</th>\n",
              "      <td>2019-11-01 00:29:32 UTC</td>\n",
              "      <td>cart</td>\n",
              "      <td>5749199</td>\n",
              "      <td>1487580013053083824</td>\n",
              "      <td>stationery.cartrige</td>\n",
              "      <td>italwax</td>\n",
              "      <td>1.98</td>\n",
              "      <td>457604149</td>\n",
              "      <td>34adbc64-eebc-4d45-8542-547b9c20f6c1</td>\n",
              "      <td>2019-11-01</td>\n",
              "      <td>1.0</td>\n",
              "      <td>4</td>\n",
              "      <td>stationery.cartrige</td>\n",
              "      <td>17.0</td>\n",
              "    </tr>\n",
              "    <tr>\n",
              "      <th>1</th>\n",
              "      <td>2019-11-01 00:29:59 UTC</td>\n",
              "      <td>cart</td>\n",
              "      <td>5775814</td>\n",
              "      <td>1487580013053083824</td>\n",
              "      <td>stationery.cartrige</td>\n",
              "      <td>italwax</td>\n",
              "      <td>1.98</td>\n",
              "      <td>457604149</td>\n",
              "      <td>34adbc64-eebc-4d45-8542-547b9c20f6c1</td>\n",
              "      <td>2019-11-01</td>\n",
              "      <td>1.0</td>\n",
              "      <td>4</td>\n",
              "      <td>stationery.cartrige</td>\n",
              "      <td>17.0</td>\n",
              "    </tr>\n",
              "    <tr>\n",
              "      <th>2</th>\n",
              "      <td>2019-11-01 00:30:24 UTC</td>\n",
              "      <td>cart</td>\n",
              "      <td>5788783</td>\n",
              "      <td>1487580013053083824</td>\n",
              "      <td>stationery.cartrige</td>\n",
              "      <td>italwax</td>\n",
              "      <td>1.98</td>\n",
              "      <td>457604149</td>\n",
              "      <td>34adbc64-eebc-4d45-8542-547b9c20f6c1</td>\n",
              "      <td>2019-11-01</td>\n",
              "      <td>1.0</td>\n",
              "      <td>4</td>\n",
              "      <td>stationery.cartrige</td>\n",
              "      <td>17.0</td>\n",
              "    </tr>\n",
              "    <tr>\n",
              "      <th>3</th>\n",
              "      <td>2019-11-01 00:30:49 UTC</td>\n",
              "      <td>cart</td>\n",
              "      <td>5855510</td>\n",
              "      <td>1487580006350586771</td>\n",
              "      <td>appliances.environment.vacuum</td>\n",
              "      <td>max</td>\n",
              "      <td>95.08</td>\n",
              "      <td>513114494</td>\n",
              "      <td>4d9cd992-d34d-4dc4-abe8-0f941ae1fa97</td>\n",
              "      <td>2019-11-01</td>\n",
              "      <td>0.0</td>\n",
              "      <td>4</td>\n",
              "      <td>appliances.environment.vacuum</td>\n",
              "      <td>0.0</td>\n",
              "    </tr>\n",
              "    <tr>\n",
              "      <th>4</th>\n",
              "      <td>2019-11-01 00:34:01 UTC</td>\n",
              "      <td>cart</td>\n",
              "      <td>5885590</td>\n",
              "      <td>1487580006350586771</td>\n",
              "      <td>appliances.environment.vacuum</td>\n",
              "      <td>polarus</td>\n",
              "      <td>78.57</td>\n",
              "      <td>566283723</td>\n",
              "      <td>b023f80f-362b-43fe-a3b0-d32279f42a82</td>\n",
              "      <td>2019-11-01</td>\n",
              "      <td>0.0</td>\n",
              "      <td>4</td>\n",
              "      <td>appliances.environment.vacuum</td>\n",
              "      <td>5.0</td>\n",
              "    </tr>\n",
              "  </tbody>\n",
              "</table>\n",
              "</div>\n",
              "      <button class=\"colab-df-convert\" onclick=\"convertToInteractive('df-0150456b-276f-4de2-928d-1a904ffae95a')\"\n",
              "              title=\"Convert this dataframe to an interactive table.\"\n",
              "              style=\"display:none;\">\n",
              "        \n",
              "  <svg xmlns=\"http://www.w3.org/2000/svg\" height=\"24px\"viewBox=\"0 0 24 24\"\n",
              "       width=\"24px\">\n",
              "    <path d=\"M0 0h24v24H0V0z\" fill=\"none\"/>\n",
              "    <path d=\"M18.56 5.44l.94 2.06.94-2.06 2.06-.94-2.06-.94-.94-2.06-.94 2.06-2.06.94zm-11 1L8.5 8.5l.94-2.06 2.06-.94-2.06-.94L8.5 2.5l-.94 2.06-2.06.94zm10 10l.94 2.06.94-2.06 2.06-.94-2.06-.94-.94-2.06-.94 2.06-2.06.94z\"/><path d=\"M17.41 7.96l-1.37-1.37c-.4-.4-.92-.59-1.43-.59-.52 0-1.04.2-1.43.59L10.3 9.45l-7.72 7.72c-.78.78-.78 2.05 0 2.83L4 21.41c.39.39.9.59 1.41.59.51 0 1.02-.2 1.41-.59l7.78-7.78 2.81-2.81c.8-.78.8-2.07 0-2.86zM5.41 20L4 18.59l7.72-7.72 1.47 1.35L5.41 20z\"/>\n",
              "  </svg>\n",
              "      </button>\n",
              "      \n",
              "  <style>\n",
              "    .colab-df-container {\n",
              "      display:flex;\n",
              "      flex-wrap:wrap;\n",
              "      gap: 12px;\n",
              "    }\n",
              "\n",
              "    .colab-df-convert {\n",
              "      background-color: #E8F0FE;\n",
              "      border: none;\n",
              "      border-radius: 50%;\n",
              "      cursor: pointer;\n",
              "      display: none;\n",
              "      fill: #1967D2;\n",
              "      height: 32px;\n",
              "      padding: 0 0 0 0;\n",
              "      width: 32px;\n",
              "    }\n",
              "\n",
              "    .colab-df-convert:hover {\n",
              "      background-color: #E2EBFA;\n",
              "      box-shadow: 0px 1px 2px rgba(60, 64, 67, 0.3), 0px 1px 3px 1px rgba(60, 64, 67, 0.15);\n",
              "      fill: #174EA6;\n",
              "    }\n",
              "\n",
              "    [theme=dark] .colab-df-convert {\n",
              "      background-color: #3B4455;\n",
              "      fill: #D2E3FC;\n",
              "    }\n",
              "\n",
              "    [theme=dark] .colab-df-convert:hover {\n",
              "      background-color: #434B5C;\n",
              "      box-shadow: 0px 1px 3px 1px rgba(0, 0, 0, 0.15);\n",
              "      filter: drop-shadow(0px 1px 2px rgba(0, 0, 0, 0.3));\n",
              "      fill: #FFFFFF;\n",
              "    }\n",
              "  </style>\n",
              "\n",
              "      <script>\n",
              "        const buttonEl =\n",
              "          document.querySelector('#df-0150456b-276f-4de2-928d-1a904ffae95a button.colab-df-convert');\n",
              "        buttonEl.style.display =\n",
              "          google.colab.kernel.accessAllowed ? 'block' : 'none';\n",
              "\n",
              "        async function convertToInteractive(key) {\n",
              "          const element = document.querySelector('#df-0150456b-276f-4de2-928d-1a904ffae95a');\n",
              "          const dataTable =\n",
              "            await google.colab.kernel.invokeFunction('convertToInteractive',\n",
              "                                                     [key], {});\n",
              "          if (!dataTable) return;\n",
              "\n",
              "          const docLinkHtml = 'Like what you see? Visit the ' +\n",
              "            '<a target=\"_blank\" href=https://colab.research.google.com/notebooks/data_table.ipynb>data table notebook</a>'\n",
              "            + ' to learn more about interactive tables.';\n",
              "          element.innerHTML = '';\n",
              "          dataTable['output_type'] = 'display_data';\n",
              "          await google.colab.output.renderOutput(dataTable, element);\n",
              "          const docLink = document.createElement('div');\n",
              "          docLink.innerHTML = docLinkHtml;\n",
              "          element.appendChild(docLink);\n",
              "        }\n",
              "      </script>\n",
              "    </div>\n",
              "  </div>\n",
              "  "
            ]
          },
          "metadata": {},
          "execution_count": 33
        }
      ]
    },
    {
      "cell_type": "code",
      "source": [
        "df_targets.info()"
      ],
      "metadata": {
        "colab": {
          "base_uri": "https://localhost:8080/"
        },
        "id": "74OOKGjyBxol",
        "outputId": "db936eed-115a-4be9-afd3-239c294151dc"
      },
      "execution_count": 34,
      "outputs": [
        {
          "output_type": "stream",
          "name": "stdout",
          "text": [
            "<class 'pandas.core.frame.DataFrame'>\n",
            "Int64Index: 8763 entries, 0 to 8762\n",
            "Data columns (total 14 columns):\n",
            " #   Column                Non-Null Count  Dtype   \n",
            "---  ------                --------------  -----   \n",
            " 0   event_time            8763 non-null   object  \n",
            " 1   event_type            8763 non-null   object  \n",
            " 2   product_id            8763 non-null   int64   \n",
            " 3   category_id           8763 non-null   int64   \n",
            " 4   category_code         8763 non-null   object  \n",
            " 5   brand                 8763 non-null   object  \n",
            " 6   price                 8763 non-null   float64 \n",
            " 7   user_id               8763 non-null   int64   \n",
            " 8   user_session          8763 non-null   object  \n",
            " 9   event_date            8763 non-null   object  \n",
            " 10  is_purchased          8763 non-null   float64 \n",
            " 11  event_weekday         8763 non-null   int64   \n",
            " 12  category_code_level1  8763 non-null   category\n",
            " 13  activity_count        8763 non-null   float64 \n",
            "dtypes: category(1), float64(3), int64(4), object(6)\n",
            "memory usage: 967.4+ KB\n"
          ]
        }
      ]
    },
    {
      "cell_type": "code",
      "source": [
        "df_targets.to_csv('training_data.csv')"
      ],
      "metadata": {
        "id": "Iz0-9RyLB2Rx"
      },
      "execution_count": 35,
      "outputs": []
    },
    {
      "cell_type": "code",
      "source": [
        "df_targets = pd.read_csv('training_data.csv')"
      ],
      "metadata": {
        "id": "JtN4vVXMB6VC"
      },
      "execution_count": 36,
      "outputs": []
    },
    {
      "cell_type": "code",
      "source": [
        "df_targets.head()"
      ],
      "metadata": {
        "colab": {
          "base_uri": "https://localhost:8080/",
          "height": 530
        },
        "id": "Dx2HhBkzB8N-",
        "outputId": "22b92ee3-bddb-434b-f49c-23f60f64e300"
      },
      "execution_count": 37,
      "outputs": [
        {
          "output_type": "execute_result",
          "data": {
            "text/plain": [
              "   Unnamed: 0               event_time event_type  product_id  \\\n",
              "0           0  2019-11-01 00:29:32 UTC       cart     5749199   \n",
              "1           1  2019-11-01 00:29:59 UTC       cart     5775814   \n",
              "2           2  2019-11-01 00:30:24 UTC       cart     5788783   \n",
              "3           3  2019-11-01 00:30:49 UTC       cart     5855510   \n",
              "4           4  2019-11-01 00:34:01 UTC       cart     5885590   \n",
              "\n",
              "           category_id                  category_code    brand  price  \\\n",
              "0  1487580013053083824            stationery.cartrige  italwax   1.98   \n",
              "1  1487580013053083824            stationery.cartrige  italwax   1.98   \n",
              "2  1487580013053083824            stationery.cartrige  italwax   1.98   \n",
              "3  1487580006350586771  appliances.environment.vacuum      max  95.08   \n",
              "4  1487580006350586771  appliances.environment.vacuum  polarus  78.57   \n",
              "\n",
              "     user_id                          user_session  event_date  is_purchased  \\\n",
              "0  457604149  34adbc64-eebc-4d45-8542-547b9c20f6c1  2019-11-01           1.0   \n",
              "1  457604149  34adbc64-eebc-4d45-8542-547b9c20f6c1  2019-11-01           1.0   \n",
              "2  457604149  34adbc64-eebc-4d45-8542-547b9c20f6c1  2019-11-01           1.0   \n",
              "3  513114494  4d9cd992-d34d-4dc4-abe8-0f941ae1fa97  2019-11-01           0.0   \n",
              "4  566283723  b023f80f-362b-43fe-a3b0-d32279f42a82  2019-11-01           0.0   \n",
              "\n",
              "   event_weekday           category_code_level1  activity_count  \n",
              "0              4            stationery.cartrige            17.0  \n",
              "1              4            stationery.cartrige            17.0  \n",
              "2              4            stationery.cartrige            17.0  \n",
              "3              4  appliances.environment.vacuum             0.0  \n",
              "4              4  appliances.environment.vacuum             5.0  "
            ],
            "text/html": [
              "\n",
              "  <div id=\"df-5a9c24c4-d82b-45f8-a54b-7d540006ea8a\">\n",
              "    <div class=\"colab-df-container\">\n",
              "      <div>\n",
              "<style scoped>\n",
              "    .dataframe tbody tr th:only-of-type {\n",
              "        vertical-align: middle;\n",
              "    }\n",
              "\n",
              "    .dataframe tbody tr th {\n",
              "        vertical-align: top;\n",
              "    }\n",
              "\n",
              "    .dataframe thead th {\n",
              "        text-align: right;\n",
              "    }\n",
              "</style>\n",
              "<table border=\"1\" class=\"dataframe\">\n",
              "  <thead>\n",
              "    <tr style=\"text-align: right;\">\n",
              "      <th></th>\n",
              "      <th>Unnamed: 0</th>\n",
              "      <th>event_time</th>\n",
              "      <th>event_type</th>\n",
              "      <th>product_id</th>\n",
              "      <th>category_id</th>\n",
              "      <th>category_code</th>\n",
              "      <th>brand</th>\n",
              "      <th>price</th>\n",
              "      <th>user_id</th>\n",
              "      <th>user_session</th>\n",
              "      <th>event_date</th>\n",
              "      <th>is_purchased</th>\n",
              "      <th>event_weekday</th>\n",
              "      <th>category_code_level1</th>\n",
              "      <th>activity_count</th>\n",
              "    </tr>\n",
              "  </thead>\n",
              "  <tbody>\n",
              "    <tr>\n",
              "      <th>0</th>\n",
              "      <td>0</td>\n",
              "      <td>2019-11-01 00:29:32 UTC</td>\n",
              "      <td>cart</td>\n",
              "      <td>5749199</td>\n",
              "      <td>1487580013053083824</td>\n",
              "      <td>stationery.cartrige</td>\n",
              "      <td>italwax</td>\n",
              "      <td>1.98</td>\n",
              "      <td>457604149</td>\n",
              "      <td>34adbc64-eebc-4d45-8542-547b9c20f6c1</td>\n",
              "      <td>2019-11-01</td>\n",
              "      <td>1.0</td>\n",
              "      <td>4</td>\n",
              "      <td>stationery.cartrige</td>\n",
              "      <td>17.0</td>\n",
              "    </tr>\n",
              "    <tr>\n",
              "      <th>1</th>\n",
              "      <td>1</td>\n",
              "      <td>2019-11-01 00:29:59 UTC</td>\n",
              "      <td>cart</td>\n",
              "      <td>5775814</td>\n",
              "      <td>1487580013053083824</td>\n",
              "      <td>stationery.cartrige</td>\n",
              "      <td>italwax</td>\n",
              "      <td>1.98</td>\n",
              "      <td>457604149</td>\n",
              "      <td>34adbc64-eebc-4d45-8542-547b9c20f6c1</td>\n",
              "      <td>2019-11-01</td>\n",
              "      <td>1.0</td>\n",
              "      <td>4</td>\n",
              "      <td>stationery.cartrige</td>\n",
              "      <td>17.0</td>\n",
              "    </tr>\n",
              "    <tr>\n",
              "      <th>2</th>\n",
              "      <td>2</td>\n",
              "      <td>2019-11-01 00:30:24 UTC</td>\n",
              "      <td>cart</td>\n",
              "      <td>5788783</td>\n",
              "      <td>1487580013053083824</td>\n",
              "      <td>stationery.cartrige</td>\n",
              "      <td>italwax</td>\n",
              "      <td>1.98</td>\n",
              "      <td>457604149</td>\n",
              "      <td>34adbc64-eebc-4d45-8542-547b9c20f6c1</td>\n",
              "      <td>2019-11-01</td>\n",
              "      <td>1.0</td>\n",
              "      <td>4</td>\n",
              "      <td>stationery.cartrige</td>\n",
              "      <td>17.0</td>\n",
              "    </tr>\n",
              "    <tr>\n",
              "      <th>3</th>\n",
              "      <td>3</td>\n",
              "      <td>2019-11-01 00:30:49 UTC</td>\n",
              "      <td>cart</td>\n",
              "      <td>5855510</td>\n",
              "      <td>1487580006350586771</td>\n",
              "      <td>appliances.environment.vacuum</td>\n",
              "      <td>max</td>\n",
              "      <td>95.08</td>\n",
              "      <td>513114494</td>\n",
              "      <td>4d9cd992-d34d-4dc4-abe8-0f941ae1fa97</td>\n",
              "      <td>2019-11-01</td>\n",
              "      <td>0.0</td>\n",
              "      <td>4</td>\n",
              "      <td>appliances.environment.vacuum</td>\n",
              "      <td>0.0</td>\n",
              "    </tr>\n",
              "    <tr>\n",
              "      <th>4</th>\n",
              "      <td>4</td>\n",
              "      <td>2019-11-01 00:34:01 UTC</td>\n",
              "      <td>cart</td>\n",
              "      <td>5885590</td>\n",
              "      <td>1487580006350586771</td>\n",
              "      <td>appliances.environment.vacuum</td>\n",
              "      <td>polarus</td>\n",
              "      <td>78.57</td>\n",
              "      <td>566283723</td>\n",
              "      <td>b023f80f-362b-43fe-a3b0-d32279f42a82</td>\n",
              "      <td>2019-11-01</td>\n",
              "      <td>0.0</td>\n",
              "      <td>4</td>\n",
              "      <td>appliances.environment.vacuum</td>\n",
              "      <td>5.0</td>\n",
              "    </tr>\n",
              "  </tbody>\n",
              "</table>\n",
              "</div>\n",
              "      <button class=\"colab-df-convert\" onclick=\"convertToInteractive('df-5a9c24c4-d82b-45f8-a54b-7d540006ea8a')\"\n",
              "              title=\"Convert this dataframe to an interactive table.\"\n",
              "              style=\"display:none;\">\n",
              "        \n",
              "  <svg xmlns=\"http://www.w3.org/2000/svg\" height=\"24px\"viewBox=\"0 0 24 24\"\n",
              "       width=\"24px\">\n",
              "    <path d=\"M0 0h24v24H0V0z\" fill=\"none\"/>\n",
              "    <path d=\"M18.56 5.44l.94 2.06.94-2.06 2.06-.94-2.06-.94-.94-2.06-.94 2.06-2.06.94zm-11 1L8.5 8.5l.94-2.06 2.06-.94-2.06-.94L8.5 2.5l-.94 2.06-2.06.94zm10 10l.94 2.06.94-2.06 2.06-.94-2.06-.94-.94-2.06-.94 2.06-2.06.94z\"/><path d=\"M17.41 7.96l-1.37-1.37c-.4-.4-.92-.59-1.43-.59-.52 0-1.04.2-1.43.59L10.3 9.45l-7.72 7.72c-.78.78-.78 2.05 0 2.83L4 21.41c.39.39.9.59 1.41.59.51 0 1.02-.2 1.41-.59l7.78-7.78 2.81-2.81c.8-.78.8-2.07 0-2.86zM5.41 20L4 18.59l7.72-7.72 1.47 1.35L5.41 20z\"/>\n",
              "  </svg>\n",
              "      </button>\n",
              "      \n",
              "  <style>\n",
              "    .colab-df-container {\n",
              "      display:flex;\n",
              "      flex-wrap:wrap;\n",
              "      gap: 12px;\n",
              "    }\n",
              "\n",
              "    .colab-df-convert {\n",
              "      background-color: #E8F0FE;\n",
              "      border: none;\n",
              "      border-radius: 50%;\n",
              "      cursor: pointer;\n",
              "      display: none;\n",
              "      fill: #1967D2;\n",
              "      height: 32px;\n",
              "      padding: 0 0 0 0;\n",
              "      width: 32px;\n",
              "    }\n",
              "\n",
              "    .colab-df-convert:hover {\n",
              "      background-color: #E2EBFA;\n",
              "      box-shadow: 0px 1px 2px rgba(60, 64, 67, 0.3), 0px 1px 3px 1px rgba(60, 64, 67, 0.15);\n",
              "      fill: #174EA6;\n",
              "    }\n",
              "\n",
              "    [theme=dark] .colab-df-convert {\n",
              "      background-color: #3B4455;\n",
              "      fill: #D2E3FC;\n",
              "    }\n",
              "\n",
              "    [theme=dark] .colab-df-convert:hover {\n",
              "      background-color: #434B5C;\n",
              "      box-shadow: 0px 1px 3px 1px rgba(0, 0, 0, 0.15);\n",
              "      filter: drop-shadow(0px 1px 2px rgba(0, 0, 0, 0.3));\n",
              "      fill: #FFFFFF;\n",
              "    }\n",
              "  </style>\n",
              "\n",
              "      <script>\n",
              "        const buttonEl =\n",
              "          document.querySelector('#df-5a9c24c4-d82b-45f8-a54b-7d540006ea8a button.colab-df-convert');\n",
              "        buttonEl.style.display =\n",
              "          google.colab.kernel.accessAllowed ? 'block' : 'none';\n",
              "\n",
              "        async function convertToInteractive(key) {\n",
              "          const element = document.querySelector('#df-5a9c24c4-d82b-45f8-a54b-7d540006ea8a');\n",
              "          const dataTable =\n",
              "            await google.colab.kernel.invokeFunction('convertToInteractive',\n",
              "                                                     [key], {});\n",
              "          if (!dataTable) return;\n",
              "\n",
              "          const docLinkHtml = 'Like what you see? Visit the ' +\n",
              "            '<a target=\"_blank\" href=https://colab.research.google.com/notebooks/data_table.ipynb>data table notebook</a>'\n",
              "            + ' to learn more about interactive tables.';\n",
              "          element.innerHTML = '';\n",
              "          dataTable['output_type'] = 'display_data';\n",
              "          await google.colab.output.renderOutput(dataTable, element);\n",
              "          const docLink = document.createElement('div');\n",
              "          docLink.innerHTML = docLinkHtml;\n",
              "          element.appendChild(docLink);\n",
              "        }\n",
              "      </script>\n",
              "    </div>\n",
              "  </div>\n",
              "  "
            ]
          },
          "metadata": {},
          "execution_count": 37
        }
      ]
    },
    {
      "cell_type": "markdown",
      "source": [
        "#Resampling data to have equal no of purchased and not purchased items"
      ],
      "metadata": {
        "id": "531nE43jCBAq"
      }
    },
    {
      "cell_type": "code",
      "source": [
        "is_purchase_set = df_targets[df_targets['is_purchased'] == 1]\n",
        "is_purchase_set.shape[0]\n",
        "not_purchase_set = df_targets[df_targets['is_purchased'] == 0]\n",
        "not_purchase_set.shape[0]"
      ],
      "metadata": {
        "colab": {
          "base_uri": "https://localhost:8080/"
        },
        "id": "AnhojsutB9_g",
        "outputId": "f7442724-842c-4a2f-a3f3-8ed0df7bcd63"
      },
      "execution_count": 38,
      "outputs": [
        {
          "output_type": "execute_result",
          "data": {
            "text/plain": [
              "7141"
            ]
          },
          "metadata": {},
          "execution_count": 38
        }
      ]
    },
    {
      "cell_type": "code",
      "source": [
        "n_samples = 500000\n",
        "is_purchase_downsampled = resample(is_purchase_set,replace = True,n_samples = n_samples,random_state = 27)\n",
        "not_purchase_set_downsampled = resample(not_purchase_set,replace = True,n_samples = n_samples,random_state = 27)"
      ],
      "metadata": {
        "id": "5q0iFh5BCE9C"
      },
      "execution_count": 40,
      "outputs": []
    },
    {
      "cell_type": "code",
      "source": [
        "downsampled = pd.concat([is_purchase_downsampled,not_purchase_set_downsampled])\n",
        "downsampled['is_purchased'].value_counts()"
      ],
      "metadata": {
        "colab": {
          "base_uri": "https://localhost:8080/"
        },
        "id": "kt5AtpMACHcO",
        "outputId": "7c379cc3-de7b-4e14-aa9c-4fb09a1d97ee"
      },
      "execution_count": 41,
      "outputs": [
        {
          "output_type": "execute_result",
          "data": {
            "text/plain": [
              "1.0    500000\n",
              "0.0    500000\n",
              "Name: is_purchased, dtype: int64"
            ]
          },
          "metadata": {},
          "execution_count": 41
        }
      ]
    },
    {
      "cell_type": "code",
      "source": [
        "features = downsampled[['brand','price','event_weekday','category_code_level1','activity_count']]"
      ],
      "metadata": {
        "id": "hd0dAQlGCU4t"
      },
      "execution_count": 43,
      "outputs": []
    },
    {
      "cell_type": "markdown",
      "source": [
        "#Encoding categorical attributes"
      ],
      "metadata": {
        "id": "xTvPj0p1CciJ"
      }
    },
    {
      "cell_type": "code",
      "source": [
        "features.loc[:,'brand'] = LabelEncoder().fit_transform(downsampled.loc[:,'brand'].copy())\n",
        "features.loc[:,'event_weekday'] = LabelEncoder().fit_transform(downsampled.loc[:,'event_weekday'].copy())\n",
        "features.loc[:,'category_code_level1'] = LabelEncoder().fit_transform(downsampled.loc[:,'category_code_level1'].copy())\n",
        "is_purchased = LabelEncoder().fit_transform(downsampled['is_purchased'])\n",
        "features.head()"
      ],
      "metadata": {
        "colab": {
          "base_uri": "https://localhost:8080/",
          "height": 313
        },
        "id": "dwcT6NdLCYU9",
        "outputId": "ffe002d6-1c96-4f4c-b798-c8f4e95c5e53"
      },
      "execution_count": 50,
      "outputs": [
        {
          "output_type": "stream",
          "name": "stderr",
          "text": [
            "/usr/local/lib/python3.7/dist-packages/pandas/core/indexing.py:1773: SettingWithCopyWarning: \n",
            "A value is trying to be set on a copy of a slice from a DataFrame.\n",
            "Try using .loc[row_indexer,col_indexer] = value instead\n",
            "\n",
            "See the caveats in the documentation: https://pandas.pydata.org/pandas-docs/stable/user_guide/indexing.html#returning-a-view-versus-a-copy\n",
            "  self._setitem_single_column(ilocs[0], value, pi)\n"
          ]
        },
        {
          "output_type": "execute_result",
          "data": {
            "text/plain": [
              "      brand  price  event_weekday  category_code_level1  activity_count\n",
              "5684      9   1.78              4                     8            43.0\n",
              "2833      0   5.57              1                     2             0.0\n",
              "4017      7  16.67              5                     6             0.0\n",
              "7019      9   1.98              0                     8             0.0\n",
              "5704      0   5.22              4                     2             0.0"
            ],
            "text/html": [
              "\n",
              "  <div id=\"df-3d84cfc6-08af-4549-8033-484e3519f906\">\n",
              "    <div class=\"colab-df-container\">\n",
              "      <div>\n",
              "<style scoped>\n",
              "    .dataframe tbody tr th:only-of-type {\n",
              "        vertical-align: middle;\n",
              "    }\n",
              "\n",
              "    .dataframe tbody tr th {\n",
              "        vertical-align: top;\n",
              "    }\n",
              "\n",
              "    .dataframe thead th {\n",
              "        text-align: right;\n",
              "    }\n",
              "</style>\n",
              "<table border=\"1\" class=\"dataframe\">\n",
              "  <thead>\n",
              "    <tr style=\"text-align: right;\">\n",
              "      <th></th>\n",
              "      <th>brand</th>\n",
              "      <th>price</th>\n",
              "      <th>event_weekday</th>\n",
              "      <th>category_code_level1</th>\n",
              "      <th>activity_count</th>\n",
              "    </tr>\n",
              "  </thead>\n",
              "  <tbody>\n",
              "    <tr>\n",
              "      <th>5684</th>\n",
              "      <td>9</td>\n",
              "      <td>1.78</td>\n",
              "      <td>4</td>\n",
              "      <td>8</td>\n",
              "      <td>43.0</td>\n",
              "    </tr>\n",
              "    <tr>\n",
              "      <th>2833</th>\n",
              "      <td>0</td>\n",
              "      <td>5.57</td>\n",
              "      <td>1</td>\n",
              "      <td>2</td>\n",
              "      <td>0.0</td>\n",
              "    </tr>\n",
              "    <tr>\n",
              "      <th>4017</th>\n",
              "      <td>7</td>\n",
              "      <td>16.67</td>\n",
              "      <td>5</td>\n",
              "      <td>6</td>\n",
              "      <td>0.0</td>\n",
              "    </tr>\n",
              "    <tr>\n",
              "      <th>7019</th>\n",
              "      <td>9</td>\n",
              "      <td>1.98</td>\n",
              "      <td>0</td>\n",
              "      <td>8</td>\n",
              "      <td>0.0</td>\n",
              "    </tr>\n",
              "    <tr>\n",
              "      <th>5704</th>\n",
              "      <td>0</td>\n",
              "      <td>5.22</td>\n",
              "      <td>4</td>\n",
              "      <td>2</td>\n",
              "      <td>0.0</td>\n",
              "    </tr>\n",
              "  </tbody>\n",
              "</table>\n",
              "</div>\n",
              "      <button class=\"colab-df-convert\" onclick=\"convertToInteractive('df-3d84cfc6-08af-4549-8033-484e3519f906')\"\n",
              "              title=\"Convert this dataframe to an interactive table.\"\n",
              "              style=\"display:none;\">\n",
              "        \n",
              "  <svg xmlns=\"http://www.w3.org/2000/svg\" height=\"24px\"viewBox=\"0 0 24 24\"\n",
              "       width=\"24px\">\n",
              "    <path d=\"M0 0h24v24H0V0z\" fill=\"none\"/>\n",
              "    <path d=\"M18.56 5.44l.94 2.06.94-2.06 2.06-.94-2.06-.94-.94-2.06-.94 2.06-2.06.94zm-11 1L8.5 8.5l.94-2.06 2.06-.94-2.06-.94L8.5 2.5l-.94 2.06-2.06.94zm10 10l.94 2.06.94-2.06 2.06-.94-2.06-.94-.94-2.06-.94 2.06-2.06.94z\"/><path d=\"M17.41 7.96l-1.37-1.37c-.4-.4-.92-.59-1.43-.59-.52 0-1.04.2-1.43.59L10.3 9.45l-7.72 7.72c-.78.78-.78 2.05 0 2.83L4 21.41c.39.39.9.59 1.41.59.51 0 1.02-.2 1.41-.59l7.78-7.78 2.81-2.81c.8-.78.8-2.07 0-2.86zM5.41 20L4 18.59l7.72-7.72 1.47 1.35L5.41 20z\"/>\n",
              "  </svg>\n",
              "      </button>\n",
              "      \n",
              "  <style>\n",
              "    .colab-df-container {\n",
              "      display:flex;\n",
              "      flex-wrap:wrap;\n",
              "      gap: 12px;\n",
              "    }\n",
              "\n",
              "    .colab-df-convert {\n",
              "      background-color: #E8F0FE;\n",
              "      border: none;\n",
              "      border-radius: 50%;\n",
              "      cursor: pointer;\n",
              "      display: none;\n",
              "      fill: #1967D2;\n",
              "      height: 32px;\n",
              "      padding: 0 0 0 0;\n",
              "      width: 32px;\n",
              "    }\n",
              "\n",
              "    .colab-df-convert:hover {\n",
              "      background-color: #E2EBFA;\n",
              "      box-shadow: 0px 1px 2px rgba(60, 64, 67, 0.3), 0px 1px 3px 1px rgba(60, 64, 67, 0.15);\n",
              "      fill: #174EA6;\n",
              "    }\n",
              "\n",
              "    [theme=dark] .colab-df-convert {\n",
              "      background-color: #3B4455;\n",
              "      fill: #D2E3FC;\n",
              "    }\n",
              "\n",
              "    [theme=dark] .colab-df-convert:hover {\n",
              "      background-color: #434B5C;\n",
              "      box-shadow: 0px 1px 3px 1px rgba(0, 0, 0, 0.15);\n",
              "      filter: drop-shadow(0px 1px 2px rgba(0, 0, 0, 0.3));\n",
              "      fill: #FFFFFF;\n",
              "    }\n",
              "  </style>\n",
              "\n",
              "      <script>\n",
              "        const buttonEl =\n",
              "          document.querySelector('#df-3d84cfc6-08af-4549-8033-484e3519f906 button.colab-df-convert');\n",
              "        buttonEl.style.display =\n",
              "          google.colab.kernel.accessAllowed ? 'block' : 'none';\n",
              "\n",
              "        async function convertToInteractive(key) {\n",
              "          const element = document.querySelector('#df-3d84cfc6-08af-4549-8033-484e3519f906');\n",
              "          const dataTable =\n",
              "            await google.colab.kernel.invokeFunction('convertToInteractive',\n",
              "                                                     [key], {});\n",
              "          if (!dataTable) return;\n",
              "\n",
              "          const docLinkHtml = 'Like what you see? Visit the ' +\n",
              "            '<a target=\"_blank\" href=https://colab.research.google.com/notebooks/data_table.ipynb>data table notebook</a>'\n",
              "            + ' to learn more about interactive tables.';\n",
              "          element.innerHTML = '';\n",
              "          dataTable['output_type'] = 'display_data';\n",
              "          await google.colab.output.renderOutput(dataTable, element);\n",
              "          const docLink = document.createElement('div');\n",
              "          docLink.innerHTML = docLinkHtml;\n",
              "          element.appendChild(docLink);\n",
              "        }\n",
              "      </script>\n",
              "    </div>\n",
              "  </div>\n",
              "  "
            ]
          },
          "metadata": {},
          "execution_count": 50
        }
      ]
    },
    {
      "cell_type": "code",
      "source": [
        "features.info()"
      ],
      "metadata": {
        "colab": {
          "base_uri": "https://localhost:8080/"
        },
        "id": "0YXv1fp8Cy9Q",
        "outputId": "edb9a8b0-1fd8-4fc4-93b2-d83001fc3574"
      },
      "execution_count": 51,
      "outputs": [
        {
          "output_type": "stream",
          "name": "stdout",
          "text": [
            "<class 'pandas.core.frame.DataFrame'>\n",
            "Int64Index: 1000000 entries, 5684 to 5371\n",
            "Data columns (total 5 columns):\n",
            " #   Column                Non-Null Count    Dtype  \n",
            "---  ------                --------------    -----  \n",
            " 0   brand                 1000000 non-null  int64  \n",
            " 1   price                 1000000 non-null  float64\n",
            " 2   event_weekday         1000000 non-null  int64  \n",
            " 3   category_code_level1  1000000 non-null  int64  \n",
            " 4   activity_count        1000000 non-null  float64\n",
            "dtypes: float64(2), int64(3)\n",
            "memory usage: 45.8 MB\n"
          ]
        }
      ]
    },
    {
      "cell_type": "markdown",
      "source": [
        "#Chi square test - association between two attributes"
      ],
      "metadata": {
        "id": "yLREEAsBDdNa"
      }
    },
    {
      "cell_type": "markdown",
      "source": [
        "Weekday vs price"
      ],
      "metadata": {
        "id": "JBW7KG67DxQR"
      }
    },
    {
      "cell_type": "code",
      "source": [
        "print()\n",
        "print(\"Chi square test\")\n",
        "#Event weekday and price\n",
        "table = pd.crosstab(features['event_weekday'],features['price'],margins = False)\n",
        "stat,p,dof,expected = chi2_contingency(table)\n",
        "alpha = 0.05\n",
        "print(\"For weekday of the event and price\")\n",
        "print(\"p value is \" +str(p))\n",
        "if p >= alpha:\n",
        "  print(\"No significant association between these attributes -H0 holds true\")\n",
        "else:\n",
        "  print(\"significant association between these attributes -H0 is rejected\")"
      ],
      "metadata": {
        "colab": {
          "base_uri": "https://localhost:8080/"
        },
        "id": "9f7vqq-yDcOk",
        "outputId": "24fe6d45-d7d5-4859-bcc2-bf82b2777730"
      },
      "execution_count": 54,
      "outputs": [
        {
          "output_type": "stream",
          "name": "stdout",
          "text": [
            "\n",
            "Chi square test\n",
            "For weekday of the event and price\n",
            "p value is 0.0\n",
            "significant association between these attributes -H0 is rejected\n"
          ]
        }
      ]
    },
    {
      "cell_type": "markdown",
      "source": [
        "user_id vs category_id"
      ],
      "metadata": {
        "id": "xHbAwC_cDzd5"
      }
    },
    {
      "cell_type": "code",
      "source": [
        "d1 = df[:100000]\n",
        "table1 = pd.crosstab(d1['category_id'],d1['user_id'],margins = False)\n",
        "stat,p,dof,expected = chi2_contingency(table1)\n",
        "alpha = 0.05\n",
        "print(\"For category code and user\")\n",
        "print(\"p value is \" +str(p))\n",
        "if p >= alpha:\n",
        "  print(\"No significant association between these attributes -H0 holds true\")\n",
        "else:\n",
        "  print(\"significant association between these attributes -H0 is rejected\")"
      ],
      "metadata": {
        "colab": {
          "base_uri": "https://localhost:8080/"
        },
        "id": "ooBpQiVjDjLY",
        "outputId": "4b77ec23-d864-4a08-ddc0-3737c5ff522e"
      },
      "execution_count": 56,
      "outputs": [
        {
          "output_type": "stream",
          "name": "stdout",
          "text": [
            "For category code and user\n",
            "p value is 0.0\n",
            "significant association between these attributes -H0 is rejected\n"
          ]
        }
      ]
    },
    {
      "cell_type": "markdown",
      "source": [
        "#Covariance matrix"
      ],
      "metadata": {
        "id": "CqJnvl46ELR3"
      }
    },
    {
      "cell_type": "code",
      "source": [
        "matrix = downsampled[['brand','price','event_weekday','category_code_level1','activity_count','is_purchased']]\n",
        "matrix.loc[:,'brand'] = LabelEncoder().fit_transform(downsampled.loc[:,'brand'].copy())\n",
        "matrix.loc[:,'event_weekday'] = LabelEncoder().fit_transform(downsampled.loc[:,'event_weekday'].copy())\n",
        "matrix.loc[:,'category_code_level1'] = LabelEncoder().fit_transform(downsampled.loc[:,'category_code_level1'].copy())\n",
        "matrix.head()"
      ],
      "metadata": {
        "colab": {
          "base_uri": "https://localhost:8080/",
          "height": 313
        },
        "id": "4Cy4HU_AEFBy",
        "outputId": "0ba2a1cf-3348-4d37-cd5f-4491bd90dc07"
      },
      "execution_count": 61,
      "outputs": [
        {
          "output_type": "stream",
          "name": "stderr",
          "text": [
            "/usr/local/lib/python3.7/dist-packages/pandas/core/indexing.py:1773: SettingWithCopyWarning: \n",
            "A value is trying to be set on a copy of a slice from a DataFrame.\n",
            "Try using .loc[row_indexer,col_indexer] = value instead\n",
            "\n",
            "See the caveats in the documentation: https://pandas.pydata.org/pandas-docs/stable/user_guide/indexing.html#returning-a-view-versus-a-copy\n",
            "  self._setitem_single_column(ilocs[0], value, pi)\n"
          ]
        },
        {
          "output_type": "execute_result",
          "data": {
            "text/plain": [
              "      brand  price  event_weekday  category_code_level1  activity_count  \\\n",
              "5684      9   1.78              4                     8            43.0   \n",
              "2833      0   5.57              1                     2             0.0   \n",
              "4017      7  16.67              5                     6             0.0   \n",
              "7019      9   1.98              0                     8             0.0   \n",
              "5704      0   5.22              4                     2             0.0   \n",
              "\n",
              "      is_purchased  \n",
              "5684           1.0  \n",
              "2833           1.0  \n",
              "4017           1.0  \n",
              "7019           1.0  \n",
              "5704           1.0  "
            ],
            "text/html": [
              "\n",
              "  <div id=\"df-a0907884-83eb-4824-839d-940b4c3fdc11\">\n",
              "    <div class=\"colab-df-container\">\n",
              "      <div>\n",
              "<style scoped>\n",
              "    .dataframe tbody tr th:only-of-type {\n",
              "        vertical-align: middle;\n",
              "    }\n",
              "\n",
              "    .dataframe tbody tr th {\n",
              "        vertical-align: top;\n",
              "    }\n",
              "\n",
              "    .dataframe thead th {\n",
              "        text-align: right;\n",
              "    }\n",
              "</style>\n",
              "<table border=\"1\" class=\"dataframe\">\n",
              "  <thead>\n",
              "    <tr style=\"text-align: right;\">\n",
              "      <th></th>\n",
              "      <th>brand</th>\n",
              "      <th>price</th>\n",
              "      <th>event_weekday</th>\n",
              "      <th>category_code_level1</th>\n",
              "      <th>activity_count</th>\n",
              "      <th>is_purchased</th>\n",
              "    </tr>\n",
              "  </thead>\n",
              "  <tbody>\n",
              "    <tr>\n",
              "      <th>5684</th>\n",
              "      <td>9</td>\n",
              "      <td>1.78</td>\n",
              "      <td>4</td>\n",
              "      <td>8</td>\n",
              "      <td>43.0</td>\n",
              "      <td>1.0</td>\n",
              "    </tr>\n",
              "    <tr>\n",
              "      <th>2833</th>\n",
              "      <td>0</td>\n",
              "      <td>5.57</td>\n",
              "      <td>1</td>\n",
              "      <td>2</td>\n",
              "      <td>0.0</td>\n",
              "      <td>1.0</td>\n",
              "    </tr>\n",
              "    <tr>\n",
              "      <th>4017</th>\n",
              "      <td>7</td>\n",
              "      <td>16.67</td>\n",
              "      <td>5</td>\n",
              "      <td>6</td>\n",
              "      <td>0.0</td>\n",
              "      <td>1.0</td>\n",
              "    </tr>\n",
              "    <tr>\n",
              "      <th>7019</th>\n",
              "      <td>9</td>\n",
              "      <td>1.98</td>\n",
              "      <td>0</td>\n",
              "      <td>8</td>\n",
              "      <td>0.0</td>\n",
              "      <td>1.0</td>\n",
              "    </tr>\n",
              "    <tr>\n",
              "      <th>5704</th>\n",
              "      <td>0</td>\n",
              "      <td>5.22</td>\n",
              "      <td>4</td>\n",
              "      <td>2</td>\n",
              "      <td>0.0</td>\n",
              "      <td>1.0</td>\n",
              "    </tr>\n",
              "  </tbody>\n",
              "</table>\n",
              "</div>\n",
              "      <button class=\"colab-df-convert\" onclick=\"convertToInteractive('df-a0907884-83eb-4824-839d-940b4c3fdc11')\"\n",
              "              title=\"Convert this dataframe to an interactive table.\"\n",
              "              style=\"display:none;\">\n",
              "        \n",
              "  <svg xmlns=\"http://www.w3.org/2000/svg\" height=\"24px\"viewBox=\"0 0 24 24\"\n",
              "       width=\"24px\">\n",
              "    <path d=\"M0 0h24v24H0V0z\" fill=\"none\"/>\n",
              "    <path d=\"M18.56 5.44l.94 2.06.94-2.06 2.06-.94-2.06-.94-.94-2.06-.94 2.06-2.06.94zm-11 1L8.5 8.5l.94-2.06 2.06-.94-2.06-.94L8.5 2.5l-.94 2.06-2.06.94zm10 10l.94 2.06.94-2.06 2.06-.94-2.06-.94-.94-2.06-.94 2.06-2.06.94z\"/><path d=\"M17.41 7.96l-1.37-1.37c-.4-.4-.92-.59-1.43-.59-.52 0-1.04.2-1.43.59L10.3 9.45l-7.72 7.72c-.78.78-.78 2.05 0 2.83L4 21.41c.39.39.9.59 1.41.59.51 0 1.02-.2 1.41-.59l7.78-7.78 2.81-2.81c.8-.78.8-2.07 0-2.86zM5.41 20L4 18.59l7.72-7.72 1.47 1.35L5.41 20z\"/>\n",
              "  </svg>\n",
              "      </button>\n",
              "      \n",
              "  <style>\n",
              "    .colab-df-container {\n",
              "      display:flex;\n",
              "      flex-wrap:wrap;\n",
              "      gap: 12px;\n",
              "    }\n",
              "\n",
              "    .colab-df-convert {\n",
              "      background-color: #E8F0FE;\n",
              "      border: none;\n",
              "      border-radius: 50%;\n",
              "      cursor: pointer;\n",
              "      display: none;\n",
              "      fill: #1967D2;\n",
              "      height: 32px;\n",
              "      padding: 0 0 0 0;\n",
              "      width: 32px;\n",
              "    }\n",
              "\n",
              "    .colab-df-convert:hover {\n",
              "      background-color: #E2EBFA;\n",
              "      box-shadow: 0px 1px 2px rgba(60, 64, 67, 0.3), 0px 1px 3px 1px rgba(60, 64, 67, 0.15);\n",
              "      fill: #174EA6;\n",
              "    }\n",
              "\n",
              "    [theme=dark] .colab-df-convert {\n",
              "      background-color: #3B4455;\n",
              "      fill: #D2E3FC;\n",
              "    }\n",
              "\n",
              "    [theme=dark] .colab-df-convert:hover {\n",
              "      background-color: #434B5C;\n",
              "      box-shadow: 0px 1px 3px 1px rgba(0, 0, 0, 0.15);\n",
              "      filter: drop-shadow(0px 1px 2px rgba(0, 0, 0, 0.3));\n",
              "      fill: #FFFFFF;\n",
              "    }\n",
              "  </style>\n",
              "\n",
              "      <script>\n",
              "        const buttonEl =\n",
              "          document.querySelector('#df-a0907884-83eb-4824-839d-940b4c3fdc11 button.colab-df-convert');\n",
              "        buttonEl.style.display =\n",
              "          google.colab.kernel.accessAllowed ? 'block' : 'none';\n",
              "\n",
              "        async function convertToInteractive(key) {\n",
              "          const element = document.querySelector('#df-a0907884-83eb-4824-839d-940b4c3fdc11');\n",
              "          const dataTable =\n",
              "            await google.colab.kernel.invokeFunction('convertToInteractive',\n",
              "                                                     [key], {});\n",
              "          if (!dataTable) return;\n",
              "\n",
              "          const docLinkHtml = 'Like what you see? Visit the ' +\n",
              "            '<a target=\"_blank\" href=https://colab.research.google.com/notebooks/data_table.ipynb>data table notebook</a>'\n",
              "            + ' to learn more about interactive tables.';\n",
              "          element.innerHTML = '';\n",
              "          dataTable['output_type'] = 'display_data';\n",
              "          await google.colab.output.renderOutput(dataTable, element);\n",
              "          const docLink = document.createElement('div');\n",
              "          docLink.innerHTML = docLinkHtml;\n",
              "          element.appendChild(docLink);\n",
              "        }\n",
              "      </script>\n",
              "    </div>\n",
              "  </div>\n",
              "  "
            ]
          },
          "metadata": {},
          "execution_count": 61
        }
      ]
    },
    {
      "cell_type": "code",
      "source": [
        "cov_matrix = matrix.cov()\n",
        "sns.heatmap(cov_matrix,annot = True)\n",
        "plt.show()"
      ],
      "metadata": {
        "colab": {
          "base_uri": "https://localhost:8080/",
          "height": 581
        },
        "id": "AL10E_dEEQ4I",
        "outputId": "66f79f4d-8399-4b79-b8f1-3338f83edf59"
      },
      "execution_count": 62,
      "outputs": [
        {
          "output_type": "display_data",
          "data": {
            "text/plain": [
              "<Figure size 576x576 with 2 Axes>"
            ],
            "image/png": "[encoded data removed]"
          },
          "metadata": {
            "needs_background": "light"
          }
        }
      ]
    },
    {
      "cell_type": "markdown",
      "source": [
        "#Correlation matrix"
      ],
      "metadata": {
        "id": "g7yh4ZjnEdxO"
      }
    },
    {
      "cell_type": "code",
      "source": [
        "corr_matrix = matrix.corr()\n",
        "sns.heatmap(corr_matrix,annot = True)\n",
        "plt.show()"
      ],
      "metadata": {
        "colab": {
          "base_uri": "https://localhost:8080/",
          "height": 585
        },
        "id": "0LF9ULigEZqM",
        "outputId": "2097f57f-b31b-4f22-e1ec-97673238ad56"
      },
      "execution_count": 63,
      "outputs": [
        {
          "output_type": "display_data",
          "data": {
            "text/plain": [
              "<Figure size 576x576 with 2 Axes>"
            ],
            "image/png": "[encoded data removed]"
          },
          "metadata": {
            "needs_background": "light"
          }
        }
      ]
    },
    {
      "cell_type": "markdown",
      "source": [
        "#ML models"
      ],
      "metadata": {
        "id": "_-C666m0El3w"
      }
    },
    {
      "cell_type": "code",
      "source": [
        "X_train ,X_test , y_train, y_test = train_test_split(features,is_purchased,test_size = 0.25,random_state =0)"
      ],
      "metadata": {
        "id": "k1e_BA4xEf42"
      },
      "execution_count": 64,
      "outputs": []
    },
    {
      "cell_type": "code",
      "source": [
        "y_train"
      ],
      "metadata": {
        "colab": {
          "base_uri": "https://localhost:8080/"
        },
        "id": "lVvmli30FLKa",
        "outputId": "71b223c6-5a5a-4008-bf5f-6a2fe927bd3b"
      },
      "execution_count": 67,
      "outputs": [
        {
          "output_type": "execute_result",
          "data": {
            "text/plain": [
              "array([0, 1, 0, ..., 1, 1, 0])"
            ]
          },
          "metadata": {},
          "execution_count": 67
        }
      ]
    },
    {
      "cell_type": "markdown",
      "source": [
        "#Decision tree classification"
      ],
      "metadata": {
        "id": "-9rTLZL9Et1E"
      }
    },
    {
      "cell_type": "code",
      "source": [
        "from sklearn.tree import DecisionTreeClassifier\n",
        "dt_model = DecisionTreeClassifier()\n",
        "dt_model.fit(X_train, y_train)\n",
        "y_pred = dt_model.predict(X_test)"
      ],
      "metadata": {
        "id": "egURTKImEoay"
      },
      "execution_count": 69,
      "outputs": []
    },
    {
      "cell_type": "code",
      "source": [
        "print(\"Accuracy\",metrics.accuracy_score(y_test,y_pred))\n",
        "print(\"Precision\",metrics.precision_score(y_test,y_pred))\n",
        "print(\"Recall\",metrics.recall_score(y_test,y_pred))\n",
        "print(\"fbeta\",metrics.fbeta_score(y_test,y_pred,average = 'weighted',beta=0.5))"
      ],
      "metadata": {
        "colab": {
          "base_uri": "https://localhost:8080/"
        },
        "id": "HXe5l-O1EwUh",
        "outputId": "76755f6f-052b-470d-a33d-260e1ac3bbf9"
      },
      "execution_count": 70,
      "outputs": [
        {
          "output_type": "stream",
          "name": "stdout",
          "text": [
            "Accuracy 0.771504\n",
            "Precision 0.7327991651046709\n",
            "Recall 0.8542705523583887\n",
            "fbeta 0.7741389729993505\n"
          ]
        }
      ]
    },
    {
      "cell_type": "markdown",
      "source": [
        "#XGBoost classification"
      ],
      "metadata": {
        "id": "cj34eX-bFggS"
      }
    },
    {
      "cell_type": "code",
      "source": [
        "from xgboost import XGBClassifier\n",
        "xg_model = XGBClassifier(learning_rate = 0.1)\n",
        "xg_model.fit(X_train,y_train)\n",
        "y_pred = xg_model.predict(X_test)"
      ],
      "metadata": {
        "id": "Jc7PZZe0FeSd"
      },
      "execution_count": 72,
      "outputs": []
    },
    {
      "cell_type": "code",
      "source": [
        "print(\"Accuracy\",metrics.accuracy_score(y_test,y_pred))\n",
        "print(\"Precision\",metrics.precision_score(y_test,y_pred))\n",
        "print(\"Recall\",metrics.recall_score(y_test,y_pred))\n",
        "print(\"fbeta\",metrics.fbeta_score(y_test,y_pred,average = 'weighted', beta=0.5))"
      ],
      "metadata": {
        "colab": {
          "base_uri": "https://localhost:8080/"
        },
        "id": "rBYaXQr6Frvc",
        "outputId": "30b1cf9f-7b93-4db0-e88e-6138af32dbaf"
      },
      "execution_count": 73,
      "outputs": [
        {
          "output_type": "stream",
          "name": "stdout",
          "text": [
            "Accuracy 0.637708\n",
            "Precision 0.6191919752486924\n",
            "Recall 0.7144320737651777\n",
            "fbeta 0.6379259513012243\n"
          ]
        }
      ]
    },
    {
      "cell_type": "markdown",
      "source": [
        "#Logistic regression"
      ],
      "metadata": {
        "id": "3buEadbOFybM"
      }
    },
    {
      "cell_type": "code",
      "source": [
        "from sklearn.linear_model import LogisticRegression\n",
        "log_model = LogisticRegression()\n",
        "log_model = log_model.fit(X_train, y_train)\n",
        "y_pred = log_model.predict(X_test)"
      ],
      "metadata": {
        "id": "nhUw2xZvF0jr"
      },
      "execution_count": 74,
      "outputs": []
    },
    {
      "cell_type": "code",
      "source": [
        "print(\"Accuracy\",metrics.accuracy_score(y_test,y_pred))\n",
        "print(\"Precision\",metrics.precision_score(y_test,y_pred))\n",
        "print(\"Recall\",metrics.recall_score(y_test,y_pred))\n",
        "print(\"fbeta\",metrics.fbeta_score(y_test,y_pred,average = 'weighted',beta=0.5))"
      ],
      "metadata": {
        "colab": {
          "base_uri": "https://localhost:8080/"
        },
        "id": "nG6LaKUNF2f2",
        "outputId": "796195cc-e72b-410a-da4b-abf49350b92b"
      },
      "execution_count": 76,
      "outputs": [
        {
          "output_type": "stream",
          "name": "stdout",
          "text": [
            "Accuracy 0.574664\n",
            "Precision 0.5702652273431185\n",
            "Recall 0.604224529162698\n",
            "fbeta 0.5745598502660856\n"
          ]
        }
      ]
    }
  ]
}